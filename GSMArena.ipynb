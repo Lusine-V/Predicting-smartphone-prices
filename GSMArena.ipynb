{
 "cells": [
  {
   "cell_type": "markdown",
   "metadata": {},
   "source": [
    "## Cleaning and pre-processing data"
   ]
  },
  {
   "cell_type": "code",
   "execution_count": 1345,
   "metadata": {},
   "outputs": [],
   "source": [
    "import pandas as pd\n",
    "import seaborn as sns\n",
    "import re\n",
    "import matplotlib.pyplot as plt\n",
    "from sklearn import preprocessing\n",
    "import xgboost as xgb\n",
    "from sklearn import linear_model\n",
    "from sklearn.model_selection import train_test_split\n",
    "from sklearn.linear_model import LinearRegression\n",
    "from sklearn.ensemble import RandomForestRegressor\n",
    "from sklearn.metrics import mean_absolute_error\n",
    "from sklearn.metrics import mean_squared_error\n",
    "from sklearn.metrics import r2_score"
   ]
  },
  {
   "cell_type": "code",
   "execution_count": 1346,
   "metadata": {},
   "outputs": [
    {
     "name": "stderr",
     "output_type": "stream",
     "text": [
      "c:\\users\\lusine\\anaconda2\\envs\\py36\\lib\\site-packages\\IPython\\core\\interactiveshell.py:2718: DtypeWarning: Columns (19,76,77,78,80,81,82,83,84,85,86) have mixed types. Specify dtype option on import or set low_memory=False.\n",
      "  interactivity=interactivity, compiler=compiler, result=result)\n"
     ]
    }
   ],
   "source": [
    "data = pd.read_csv('gsmmm.csv', encoding='latin-1')"
   ]
  },
  {
   "cell_type": "code",
   "execution_count": 1347,
   "metadata": {},
   "outputs": [
    {
     "data": {
      "text/html": [
       "<div>\n",
       "<style scoped>\n",
       "    .dataframe tbody tr th:only-of-type {\n",
       "        vertical-align: middle;\n",
       "    }\n",
       "\n",
       "    .dataframe tbody tr th {\n",
       "        vertical-align: top;\n",
       "    }\n",
       "\n",
       "    .dataframe thead th {\n",
       "        text-align: right;\n",
       "    }\n",
       "</style>\n",
       "<table border=\"1\" class=\"dataframe\">\n",
       "  <thead>\n",
       "    <tr style=\"text-align: right;\">\n",
       "      <th></th>\n",
       "      <th>oem</th>\n",
       "      <th>model</th>\n",
       "      <th>network_technology</th>\n",
       "      <th>network_2g_bands</th>\n",
       "      <th>network_gprs</th>\n",
       "      <th>network_edge</th>\n",
       "      <th>launch_announced</th>\n",
       "      <th>launch_status</th>\n",
       "      <th>body_dimensions</th>\n",
       "      <th>body_weight</th>\n",
       "      <th>...</th>\n",
       "      <th>features_alarm</th>\n",
       "      <th>features_languages</th>\n",
       "      <th>main_camera_triple</th>\n",
       "      <th>selfie_camera_v1</th>\n",
       "      <th>main_camera</th>\n",
       "      <th>main_camera_quad</th>\n",
       "      <th>selfie_camera_triple</th>\n",
       "      <th>main_camera_v1</th>\n",
       "      <th>main_camera_dual_or_triple</th>\n",
       "      <th>main_camera_five</th>\n",
       "    </tr>\n",
       "  </thead>\n",
       "  <tbody>\n",
       "    <tr>\n",
       "      <th>0</th>\n",
       "      <td>Acer</td>\n",
       "      <td>Chromebook Tab 10</td>\n",
       "      <td>No cellular connectivity</td>\n",
       "      <td>NaN</td>\n",
       "      <td>No</td>\n",
       "      <td>No</td>\n",
       "      <td>2018, March</td>\n",
       "      <td>Available. Released 2018, July</td>\n",
       "      <td>238.3 x 172.2 x 9.9 mm (9.38 x 6.78 x 0.39 in)</td>\n",
       "      <td>544.3 g (1.20 lb)</td>\n",
       "      <td>...</td>\n",
       "      <td>NaN</td>\n",
       "      <td>NaN</td>\n",
       "      <td>NaN</td>\n",
       "      <td>NaN</td>\n",
       "      <td>NaN</td>\n",
       "      <td>NaN</td>\n",
       "      <td>NaN</td>\n",
       "      <td>NaN</td>\n",
       "      <td>NaN</td>\n",
       "      <td>NaN</td>\n",
       "    </tr>\n",
       "    <tr>\n",
       "      <th>1</th>\n",
       "      <td>Acer</td>\n",
       "      <td>Iconia Talk S</td>\n",
       "      <td>GSM / HSPA / LTE</td>\n",
       "      <td>GSM 850 / 900 / 1800 / 1900 - SIM 1 &amp; SIM 2</td>\n",
       "      <td>Yes</td>\n",
       "      <td>Yes</td>\n",
       "      <td>2016, August</td>\n",
       "      <td>Available. Released 2016, October</td>\n",
       "      <td>191.7 x 101 x 9.4 mm (7.55 x 3.98 x 0.37 in)</td>\n",
       "      <td>260 g (9.17 oz)</td>\n",
       "      <td>...</td>\n",
       "      <td>NaN</td>\n",
       "      <td>NaN</td>\n",
       "      <td>NaN</td>\n",
       "      <td>NaN</td>\n",
       "      <td>NaN</td>\n",
       "      <td>NaN</td>\n",
       "      <td>NaN</td>\n",
       "      <td>NaN</td>\n",
       "      <td>NaN</td>\n",
       "      <td>NaN</td>\n",
       "    </tr>\n",
       "    <tr>\n",
       "      <th>2</th>\n",
       "      <td>Acer</td>\n",
       "      <td>Liquid Z6 Plus</td>\n",
       "      <td>GSM / HSPA / LTE</td>\n",
       "      <td>GSM 850 / 900 / 1800 / 1900 - SIM 1 &amp; SIM 2 (d...</td>\n",
       "      <td>Yes</td>\n",
       "      <td>Yes</td>\n",
       "      <td>2016, August</td>\n",
       "      <td>Available. Released 2016, December</td>\n",
       "      <td>153.8 x 75.6 x 8.5 mm (6.06 x 2.98 x 0.33 in)</td>\n",
       "      <td>169 g (5.96 oz)</td>\n",
       "      <td>...</td>\n",
       "      <td>NaN</td>\n",
       "      <td>NaN</td>\n",
       "      <td>NaN</td>\n",
       "      <td>NaN</td>\n",
       "      <td>NaN</td>\n",
       "      <td>NaN</td>\n",
       "      <td>NaN</td>\n",
       "      <td>NaN</td>\n",
       "      <td>NaN</td>\n",
       "      <td>NaN</td>\n",
       "    </tr>\n",
       "    <tr>\n",
       "      <th>3</th>\n",
       "      <td>Acer</td>\n",
       "      <td>Liquid Z6</td>\n",
       "      <td>GSM / HSPA / LTE</td>\n",
       "      <td>GSM 850 / 900 / 1800 / 1900 - SIM 1 &amp; SIM 2 (d...</td>\n",
       "      <td>Yes</td>\n",
       "      <td>Yes</td>\n",
       "      <td>2016, August</td>\n",
       "      <td>Available. Released 2016, December</td>\n",
       "      <td>145.5 x 72.5 x 8.5 mm (5.73 x 2.85 x 0.33 in)</td>\n",
       "      <td>126 g (4.44 oz)</td>\n",
       "      <td>...</td>\n",
       "      <td>NaN</td>\n",
       "      <td>NaN</td>\n",
       "      <td>NaN</td>\n",
       "      <td>NaN</td>\n",
       "      <td>NaN</td>\n",
       "      <td>NaN</td>\n",
       "      <td>NaN</td>\n",
       "      <td>NaN</td>\n",
       "      <td>NaN</td>\n",
       "      <td>NaN</td>\n",
       "    </tr>\n",
       "    <tr>\n",
       "      <th>4</th>\n",
       "      <td>Acer</td>\n",
       "      <td>Iconia Tab 10 A3-A40</td>\n",
       "      <td>No cellular connectivity</td>\n",
       "      <td>NaN</td>\n",
       "      <td>No</td>\n",
       "      <td>No</td>\n",
       "      <td>2016, April</td>\n",
       "      <td>Available. Released 2016, June</td>\n",
       "      <td>259 x 167 x 8.9 mm (10.20 x 6.57 x 0.35 in)</td>\n",
       "      <td>-</td>\n",
       "      <td>...</td>\n",
       "      <td>NaN</td>\n",
       "      <td>NaN</td>\n",
       "      <td>NaN</td>\n",
       "      <td>NaN</td>\n",
       "      <td>NaN</td>\n",
       "      <td>NaN</td>\n",
       "      <td>NaN</td>\n",
       "      <td>NaN</td>\n",
       "      <td>NaN</td>\n",
       "      <td>NaN</td>\n",
       "    </tr>\n",
       "  </tbody>\n",
       "</table>\n",
       "<p>5 rows × 87 columns</p>\n",
       "</div>"
      ],
      "text/plain": [
       "    oem                 model        network_technology  \\\n",
       "0  Acer     Chromebook Tab 10  No cellular connectivity   \n",
       "1  Acer         Iconia Talk S          GSM / HSPA / LTE   \n",
       "2  Acer        Liquid Z6 Plus          GSM / HSPA / LTE   \n",
       "3  Acer             Liquid Z6          GSM / HSPA / LTE   \n",
       "4  Acer  Iconia Tab 10 A3-A40  No cellular connectivity   \n",
       "\n",
       "                                    network_2g_bands network_gprs  \\\n",
       "0                                                NaN           No   \n",
       "1        GSM 850 / 900 / 1800 / 1900 - SIM 1 & SIM 2          Yes   \n",
       "2  GSM 850 / 900 / 1800 / 1900 - SIM 1 & SIM 2 (d...          Yes   \n",
       "3  GSM 850 / 900 / 1800 / 1900 - SIM 1 & SIM 2 (d...          Yes   \n",
       "4                                                NaN           No   \n",
       "\n",
       "  network_edge launch_announced                       launch_status  \\\n",
       "0           No      2018, March      Available. Released 2018, July   \n",
       "1          Yes     2016, August   Available. Released 2016, October   \n",
       "2          Yes     2016, August  Available. Released 2016, December   \n",
       "3          Yes     2016, August  Available. Released 2016, December   \n",
       "4           No      2016, April      Available. Released 2016, June   \n",
       "\n",
       "                                  body_dimensions        body_weight  ...  \\\n",
       "0  238.3 x 172.2 x 9.9 mm (9.38 x 6.78 x 0.39 in)  544.3 g (1.20 lb)  ...   \n",
       "1    191.7 x 101 x 9.4 mm (7.55 x 3.98 x 0.37 in)    260 g (9.17 oz)  ...   \n",
       "2   153.8 x 75.6 x 8.5 mm (6.06 x 2.98 x 0.33 in)    169 g (5.96 oz)  ...   \n",
       "3   145.5 x 72.5 x 8.5 mm (5.73 x 2.85 x 0.33 in)    126 g (4.44 oz)  ...   \n",
       "4     259 x 167 x 8.9 mm (10.20 x 6.57 x 0.35 in)                  -  ...   \n",
       "\n",
       "  features_alarm features_languages main_camera_triple selfie_camera_v1  \\\n",
       "0            NaN                NaN                NaN              NaN   \n",
       "1            NaN                NaN                NaN              NaN   \n",
       "2            NaN                NaN                NaN              NaN   \n",
       "3            NaN                NaN                NaN              NaN   \n",
       "4            NaN                NaN                NaN              NaN   \n",
       "\n",
       "  main_camera main_camera_quad selfie_camera_triple main_camera_v1  \\\n",
       "0         NaN              NaN                  NaN            NaN   \n",
       "1         NaN              NaN                  NaN            NaN   \n",
       "2         NaN              NaN                  NaN            NaN   \n",
       "3         NaN              NaN                  NaN            NaN   \n",
       "4         NaN              NaN                  NaN            NaN   \n",
       "\n",
       "  main_camera_dual_or_triple main_camera_five  \n",
       "0                        NaN              NaN  \n",
       "1                        NaN              NaN  \n",
       "2                        NaN              NaN  \n",
       "3                        NaN              NaN  \n",
       "4                        NaN              NaN  \n",
       "\n",
       "[5 rows x 87 columns]"
      ]
     },
     "execution_count": 1347,
     "metadata": {},
     "output_type": "execute_result"
    }
   ],
   "source": [
    "data.head()"
   ]
  },
  {
   "cell_type": "code",
   "execution_count": 1348,
   "metadata": {},
   "outputs": [
    {
     "name": "stdout",
     "output_type": "stream",
     "text": [
      "<class 'pandas.core.frame.DataFrame'>\n",
      "RangeIndex: 8980 entries, 0 to 8979\n",
      "Data columns (total 87 columns):\n",
      "oem                           8980 non-null object\n",
      "model                         8980 non-null object\n",
      "network_technology            8980 non-null object\n",
      "network_2g_bands              8691 non-null object\n",
      "network_gprs                  8959 non-null object\n",
      "network_edge                  8959 non-null object\n",
      "launch_announced              8980 non-null object\n",
      "launch_status                 8980 non-null object\n",
      "body_dimensions               8980 non-null object\n",
      "body_weight                   8901 non-null object\n",
      "body_sim                      8980 non-null object\n",
      "body                          1163 non-null object\n",
      "display_type                  8980 non-null object\n",
      "display_size                  8177 non-null object\n",
      "display_resolution            8952 non-null object\n",
      "platform_os                   5687 non-null object\n",
      "platform_chipset              4514 non-null object\n",
      "platform_cpu                  5636 non-null object\n",
      "memory_card_slot              8980 non-null object\n",
      "memory_internal               7035 non-null object\n",
      "RAM                           5275 non-null float64\n",
      "main_camera_single            7615 non-null object\n",
      "main_camera_video             7971 non-null object\n",
      "selfie_camera_single          4854 non-null object\n",
      "selfie_camera_video           1100 non-null object\n",
      "sound_loudspeaker             8980 non-null object\n",
      "sound_3.5mm_jack              8913 non-null object\n",
      "comms_wlan                    8980 non-null object\n",
      "comms_bluetooth               8963 non-null object\n",
      "comms_gps                     8953 non-null object\n",
      "comms_radio                   8871 non-null object\n",
      "comms_usb                     8414 non-null object\n",
      "features_sensors              8980 non-null object\n",
      "battery                       8865 non-null object\n",
      "battery_talk_time             6506 non-null object\n",
      "misc_colors                   8980 non-null object\n",
      "price                         5700 non-null object\n",
      "network_3g_bands              5676 non-null object\n",
      "network_4g_bands              2421 non-null object\n",
      "network                       2105 non-null object\n",
      "network_speed                 5704 non-null object\n",
      "platform_gpu                  4417 non-null object\n",
      "main_camera_features          4890 non-null object\n",
      "sound                         2400 non-null object\n",
      "features                      5129 non-null object\n",
      "selfie_camera_features        801 non-null object\n",
      "battery_stand-by              6210 non-null object\n",
      "tests_performance             442 non-null object\n",
      "tests_display                 608 non-null object\n",
      "tests_camera                  746 non-null object\n",
      "tests_loudspeaker             883 non-null object\n",
      "tests_audio_quality           808 non-null object\n",
      "tests_battery_life            583 non-null object\n",
      "display_protection            1744 non-null object\n",
      "battery_charging              779 non-null object\n",
      "misc_models                   1270 non-null object\n",
      "comms_nfc                     1046 non-null object\n",
      "misc_sar_eu                   2390 non-null object\n",
      "battery_music_play            748 non-null object\n",
      "selfie_camera                 3119 non-null object\n",
      "display                       2308 non-null object\n",
      "misc_sar                      2005 non-null object\n",
      "features_browser              3249 non-null object\n",
      "body_keyboard                 683 non-null object\n",
      "main_camera_dual              373 non-null object\n",
      "comms_infrared_port           862 non-null object\n",
      "selfie_camera_dual            69 non-null object\n",
      "body_build                    678 non-null object\n",
      "camera                        933 non-null object\n",
      "memory_phonebook              3253 non-null object\n",
      "memory_call_records           3239 non-null object\n",
      "features_messaging            3293 non-null object\n",
      "features_games                3259 non-null object\n",
      "features_java                 3240 non-null object\n",
      "memory                        370 non-null object\n",
      "sound_alert_types             1962 non-null object\n",
      "features_clock                298 non-null object\n",
      "features_alarm                298 non-null object\n",
      "features_languages            201 non-null object\n",
      "main_camera_triple            48 non-null object\n",
      "selfie_camera_v1              3 non-null object\n",
      "main_camera                   1 non-null object\n",
      "main_camera_quad              4 non-null object\n",
      "selfie_camera_triple          2 non-null object\n",
      "main_camera_v1                4 non-null object\n",
      "main_camera_dual_or_triple    1 non-null object\n",
      "main_camera_five              1 non-null object\n",
      "dtypes: float64(1), object(86)\n",
      "memory usage: 6.0+ MB\n"
     ]
    }
   ],
   "source": [
    "data.info()"
   ]
  },
  {
   "cell_type": "code",
   "execution_count": 1349,
   "metadata": {},
   "outputs": [
    {
     "data": {
      "text/plain": [
       "(8980, 87)"
      ]
     },
     "execution_count": 1349,
     "metadata": {},
     "output_type": "execute_result"
    }
   ],
   "source": [
    "data.shape"
   ]
  },
  {
   "cell_type": "code",
   "execution_count": 1350,
   "metadata": {},
   "outputs": [
    {
     "data": {
      "text/plain": [
       "Index(['oem', 'model', 'network_technology', 'network_2g_bands',\n",
       "       'network_gprs', 'network_edge', 'launch_announced', 'launch_status',\n",
       "       'body_dimensions', 'body_weight', 'body_sim', 'body', 'display_type',\n",
       "       'display_size', 'display_resolution', 'platform_os', 'platform_chipset',\n",
       "       'platform_cpu', 'memory_card_slot', 'memory_internal', 'RAM',\n",
       "       'main_camera_single', 'main_camera_video', 'selfie_camera_single',\n",
       "       'selfie_camera_video', 'sound_loudspeaker', 'sound_3.5mm_jack',\n",
       "       'comms_wlan', 'comms_bluetooth', 'comms_gps', 'comms_radio',\n",
       "       'comms_usb', 'features_sensors', 'battery', 'battery_talk_time',\n",
       "       'misc_colors', 'price', 'network_3g_bands', 'network_4g_bands',\n",
       "       'network', 'network_speed', 'platform_gpu', 'main_camera_features',\n",
       "       'sound', 'features', 'selfie_camera_features', 'battery_stand-by',\n",
       "       'tests_performance', 'tests_display', 'tests_camera',\n",
       "       'tests_loudspeaker', 'tests_audio_quality', 'tests_battery_life',\n",
       "       'display_protection', 'battery_charging', 'misc_models', 'comms_nfc',\n",
       "       'misc_sar_eu', 'battery_music_play', 'selfie_camera', 'display',\n",
       "       'misc_sar', 'features_browser', 'body_keyboard', 'main_camera_dual',\n",
       "       'comms_infrared_port', 'selfie_camera_dual', 'body_build', 'camera',\n",
       "       'memory_phonebook', 'memory_call_records', 'features_messaging',\n",
       "       'features_games', 'features_java', 'memory', 'sound_alert_types',\n",
       "       'features_clock', 'features_alarm', 'features_languages',\n",
       "       'main_camera_triple', 'selfie_camera_v1', 'main_camera',\n",
       "       'main_camera_quad', 'selfie_camera_triple', 'main_camera_v1',\n",
       "       'main_camera_dual_or_triple', 'main_camera_five'],\n",
       "      dtype='object')"
      ]
     },
     "execution_count": 1350,
     "metadata": {},
     "output_type": "execute_result"
    }
   ],
   "source": [
    "data.columns"
   ]
  },
  {
   "cell_type": "code",
   "execution_count": 1351,
   "metadata": {},
   "outputs": [],
   "source": [
    "data.rename(columns={'oem':'brand'}, inplace=True)"
   ]
  },
  {
   "cell_type": "code",
   "execution_count": 1352,
   "metadata": {},
   "outputs": [],
   "source": [
    "data = data[['brand', 'model', 'body_weight', 'body_sim',\n",
    "       'display_size', 'platform_os', 'memory_internal', 'main_camera_single', 'selfie_camera_single',\n",
    "       'battery', 'price', 'battery_stand-by', 'RAM']]"
   ]
  },
  {
   "cell_type": "code",
   "execution_count": 1353,
   "metadata": {},
   "outputs": [
    {
     "data": {
      "text/plain": [
       "Samsung     1149\n",
       "LG           578\n",
       "Nokia        469\n",
       "Motorola     403\n",
       "alcatel      354\n",
       "BLU          279\n",
       "Micromax     274\n",
       "Huawei       267\n",
       "HTC          257\n",
       "ZTE          246\n",
       "Name: brand, dtype: int64"
      ]
     },
     "execution_count": 1353,
     "metadata": {},
     "output_type": "execute_result"
    }
   ],
   "source": [
    "data['brand'].astype('category').value_counts()[0:10]"
   ]
  },
  {
   "cell_type": "markdown",
   "metadata": {},
   "source": [
    "#### 'body_weight' column"
   ]
  },
  {
   "cell_type": "code",
   "execution_count": 1354,
   "metadata": {},
   "outputs": [
    {
     "data": {
      "text/plain": [
       "-                  809\n",
       "120 g (4.23 oz)    158\n",
       "110 g (3.88 oz)    148\n",
       "90 g (3.17 oz)     147\n",
       "150 g (5.29 oz)    146\n",
       "Name: body_weight, dtype: int64"
      ]
     },
     "execution_count": 1354,
     "metadata": {},
     "output_type": "execute_result"
    }
   ],
   "source": [
    "data['body_weight'].astype('category').value_counts()[0:5]"
   ]
  },
  {
   "cell_type": "code",
   "execution_count": 1355,
   "metadata": {},
   "outputs": [],
   "source": [
    "#getting numeric values\n",
    "data['body_weight'] = data.body_weight.str.split(' ').str[0]"
   ]
  },
  {
   "cell_type": "code",
   "execution_count": 1356,
   "metadata": {},
   "outputs": [
    {
     "data": {
      "text/plain": [
       "dtype('O')"
      ]
     },
     "execution_count": 1356,
     "metadata": {},
     "output_type": "execute_result"
    }
   ],
   "source": [
    "data['body_weight'].dtype"
   ]
  },
  {
   "cell_type": "code",
   "execution_count": 1357,
   "metadata": {},
   "outputs": [],
   "source": [
    "#extracting only numeric parts to convert them to floats\n",
    "data['body_weight'] = data['body_weight'].str.extract('(\\d*\\.\\d+|\\d+)', expand=False)"
   ]
  },
  {
   "cell_type": "code",
   "execution_count": 1358,
   "metadata": {},
   "outputs": [],
   "source": [
    "#converting to float\n",
    "data['body_weight'] = data['body_weight'].astype(str).astype(float)"
   ]
  },
  {
   "cell_type": "markdown",
   "metadata": {},
   "source": [
    "#### 'body_sim' column"
   ]
  },
  {
   "cell_type": "code",
   "execution_count": 1359,
   "metadata": {},
   "outputs": [
    {
     "data": {
      "text/plain": [
       "Mini-SIM                               3932\n",
       "Dual SIM (Mini-SIM)                     696\n",
       "Dual SIM                                632\n",
       "Micro-SIM                               618\n",
       "Dual SIM (Micro-SIM, dual stand-by)     473\n",
       "Name: body_sim, dtype: int64"
      ]
     },
     "execution_count": 1359,
     "metadata": {},
     "output_type": "execute_result"
    }
   ],
   "source": [
    "data['body_sim'].astype('category').value_counts()[0:5]"
   ]
  },
  {
   "cell_type": "code",
   "execution_count": 1360,
   "metadata": {},
   "outputs": [],
   "source": [
    "#extracting only types of sim cards\n",
    "data['body_sim'] = data.body_sim.str.split('SIM').str[0]"
   ]
  },
  {
   "cell_type": "code",
   "execution_count": 1361,
   "metadata": {},
   "outputs": [
    {
     "data": {
      "text/plain": [
       "Mini-                3932\n",
       "Dual                 2891\n",
       "Micro-                622\n",
       "Hybrid Dual           450\n",
       "Single                425\n",
       "No                    282\n",
       "Nano-                 273\n",
       "Yes                    60\n",
       "Triple                 24\n",
       "Electronic             11\n",
       "Non-removable           3\n",
       "e                       2\n",
       "Quad                    2\n",
       "Yes, preinstalled       1\n",
       "Pre-installed           1\n",
       "Dual (Mini-             1\n",
       "Name: body_sim, dtype: int64"
      ]
     },
     "execution_count": 1361,
     "metadata": {},
     "output_type": "execute_result"
    }
   ],
   "source": [
    "data['body_sim'].astype('category').value_counts()"
   ]
  },
  {
   "cell_type": "code",
   "execution_count": 1362,
   "metadata": {},
   "outputs": [],
   "source": [
    "data['body_sim'] = data['body_sim'].map({'Mini-':'Mini', 'Micro-':'Micro', 'Nano-': 'Nano'})"
   ]
  },
  {
   "cell_type": "code",
   "execution_count": 1363,
   "metadata": {},
   "outputs": [],
   "source": [
    "#getting rid of the values that appear only a few times\n",
    "data['body_sim'] = data['body_sim'].replace({'e':np.nan, 'Quad':np.nan, 'Yes, preinstalled':np.nan, 'Pre-installed':np.nan, 'Dual (Mini-':np.nan})"
   ]
  },
  {
   "cell_type": "code",
   "execution_count": 1364,
   "metadata": {},
   "outputs": [
    {
     "data": {
      "text/plain": [
       "Mini     3932\n",
       "Micro     622\n",
       "Nano      273\n",
       "Name: body_sim, dtype: int64"
      ]
     },
     "execution_count": 1364,
     "metadata": {},
     "output_type": "execute_result"
    }
   ],
   "source": [
    "data['body_sim'].astype('category').value_counts()"
   ]
  },
  {
   "cell_type": "code",
   "execution_count": 1365,
   "metadata": {},
   "outputs": [
    {
     "data": {
      "text/html": [
       "<div>\n",
       "<style scoped>\n",
       "    .dataframe tbody tr th:only-of-type {\n",
       "        vertical-align: middle;\n",
       "    }\n",
       "\n",
       "    .dataframe tbody tr th {\n",
       "        vertical-align: top;\n",
       "    }\n",
       "\n",
       "    .dataframe thead th {\n",
       "        text-align: right;\n",
       "    }\n",
       "</style>\n",
       "<table border=\"1\" class=\"dataframe\">\n",
       "  <thead>\n",
       "    <tr style=\"text-align: right;\">\n",
       "      <th></th>\n",
       "      <th>Micro</th>\n",
       "      <th>Mini</th>\n",
       "      <th>Nano</th>\n",
       "    </tr>\n",
       "  </thead>\n",
       "  <tbody>\n",
       "    <tr>\n",
       "      <th>0</th>\n",
       "      <td>0</td>\n",
       "      <td>0</td>\n",
       "      <td>0</td>\n",
       "    </tr>\n",
       "    <tr>\n",
       "      <th>1</th>\n",
       "      <td>0</td>\n",
       "      <td>0</td>\n",
       "      <td>0</td>\n",
       "    </tr>\n",
       "    <tr>\n",
       "      <th>2</th>\n",
       "      <td>0</td>\n",
       "      <td>0</td>\n",
       "      <td>0</td>\n",
       "    </tr>\n",
       "    <tr>\n",
       "      <th>3</th>\n",
       "      <td>0</td>\n",
       "      <td>0</td>\n",
       "      <td>0</td>\n",
       "    </tr>\n",
       "    <tr>\n",
       "      <th>4</th>\n",
       "      <td>0</td>\n",
       "      <td>0</td>\n",
       "      <td>0</td>\n",
       "    </tr>\n",
       "  </tbody>\n",
       "</table>\n",
       "</div>"
      ],
      "text/plain": [
       "   Micro  Mini  Nano\n",
       "0      0     0     0\n",
       "1      0     0     0\n",
       "2      0     0     0\n",
       "3      0     0     0\n",
       "4      0     0     0"
      ]
     },
     "execution_count": 1365,
     "metadata": {},
     "output_type": "execute_result"
    }
   ],
   "source": [
    "#dummify categorical variables to add them later\n",
    "sim2 = pd.get_dummies(data[\"body_sim\"])\n",
    "sim2.head()"
   ]
  },
  {
   "cell_type": "markdown",
   "metadata": {},
   "source": [
    "#### 'platform_os' column"
   ]
  },
  {
   "cell_type": "code",
   "execution_count": 1366,
   "metadata": {},
   "outputs": [
    {
     "data": {
      "text/plain": [
       "Android 4.4.2 (KitKat)                                                            426\n",
       "Android 6.0 (Marshmallow)                                                         272\n",
       "Android 5.1 (Lollipop)                                                            257\n",
       "Android 4.2 (Jelly Bean)                                                          248\n",
       "Android 7.0 (Nougat)                                                              182\n",
       "Android 4.0 (Ice Cream Sandwich)                                                  166\n",
       "Android 4.2.2 (Jelly Bean)                                                        151\n",
       "Android 2.3 (Gingerbread)                                                         142\n",
       "Android 4.1 (Jelly Bean)                                                          105\n",
       "Android 2.2 (Froyo)                                                                94\n",
       "Android 5.0 (Lollipop)                                                             94\n",
       "Android 4.4 (KitKat)                                                               75\n",
       "Android 4.0.4 (Ice Cream Sandwich)                                                 71\n",
       "Android 8.1 (Oreo)                                                                 70\n",
       "Android 4.1.2 (Jelly Bean)                                                         64\n",
       "Microsoft Windows Mobile 6.1 Professional                                          53\n",
       "Microsoft Windows Mobile 5.0 PocketPC                                              49\n",
       "Android 9.0 (Pie)                                                                  43\n",
       "Android 8.0 (Oreo)                                                                 43\n",
       "Android 2.3.6 (Gingerbread)                                                        41\n",
       "Android 4.4.4 (KitKat)                                                             41\n",
       "Microsoft Windows Mobile 6.0 Professional                                          41\n",
       "Android 2.1 (Eclair)                                                               39\n",
       "Android 6.0.1 (Marshmallow)                                                        37\n",
       "Android 4.3 (Jelly Bean)                                                           36\n",
       "Android 7.1 (Nougat)                                                               34\n",
       "Microsoft Windows Phone 8.1                                                        34\n",
       "Android 5.1.1 (Lollipop)                                                           32\n",
       "Android 8.1 Oreo (Go edition)                                                      31\n",
       "Android 2.3.5 (Gingerbread)                                                        30\n",
       "                                                                                 ... \n",
       "Android 6.0 (Marshmallow), upgradable to 7.0 (Nougat); EMUI 5                       1\n",
       "Android 6.0 (Marshmallow), upgradable to 7.0 (Nougat); EMUI 4                       1\n",
       "Android 6.0 (Marshmallow), upgradable to 7.0 (Nougat); Amigo 3.2                    1\n",
       "Android 6.0 (Marshmallow), eUI 5.6                                                  1\n",
       "Android 6.0 (Marshmallow) or 5.0 (Lollipop)                                         1\n",
       "Android 6 (Marshmallow); ZenUI 3                                                    1\n",
       "Android 6.0 (Marshmallow); MiFavor UI                                               1\n",
       "Android 6.0 (Marshmallow); ZenUI 3.5                                                1\n",
       "Android 6.0.1 (Marshmallow)Android 7.0 (Nougat) - Amp Prime 2                       1\n",
       "Android 6.0 (Marshmallow); eUI                                                      1\n",
       "Android 6.0.1 (Marshmallow); eUI 5.8                                                1\n",
       "Android 6.0.1 (Marshmallow); MIUI 7.3                                               1\n",
       "Android 6.0.1 (Marshmallow); MIUI 10                                                1\n",
       "Android 6.0.1 (Marshmallow); FitHome UI                                             1\n",
       "Android 6.0.1 (Marshmallow); EMUI 4.1                                               1\n",
       "Android 6.0.1 (Marshmallow), upgradable to Android 8.1 (Oreo); ZenUI 4              1\n",
       "Android 6.0.1 (Marshmallow), upgradable to Android 8.1 (Oreo)                       1\n",
       "Android 6.0.1 (Marshmallow), upgradable to Android 8.0 (Oreo); ZUI 2.5              1\n",
       "Android 6.0.1 (Marshmallow), upgradable to Android 8.0 (Oreo); Sense UI             1\n",
       "Android 6.0.1 (Marshmallow), upgradable to Android 8.0 (Oreo); LG UX 5 UI           1\n",
       "Android 6.0.1 (Marshmallow), upgradable to Android 8.0 (Oreo); Experience UI 9      1\n",
       "Android 6.0.1 (Marshmallow), upgradable to Android 8.0 (Oreo); EMUI 4.1             1\n",
       "Android 6.0.1 (Marshmallow), upgradable to 7.1.2 (Nougat); MIUI 10                  1\n",
       "Android 6.0.1 (Marshmallow), upgradable to 7.1.1 (Nougat); MiFavor 4.2              1\n",
       "Android 6.0.1 (Marshmallow), upgradable to 7.0 (Nougat); ZUI 2.5                    1\n",
       "Android 6.0.1 (Marshmallow), upgradable to 7.0 (Nougat); Sense UI                   1\n",
       "Android 6.0.1 (Marshmallow), upgradable to 7.0 (Nougat); LG Optimus UX UI 5         1\n",
       "Android 6.0.1 (Marshmallow), upgradable to 7.0 (Nougat); EMUI 4.1                   1\n",
       "Android 6.0 (Marshmallow); eUI 5.9                                                  1\n",
       "Amazon Fire 3.5 (Android based), upgradable to 3.6.5                                1\n",
       "Name: platform_os, Length: 1055, dtype: int64"
      ]
     },
     "execution_count": 1366,
     "metadata": {},
     "output_type": "execute_result"
    }
   ],
   "source": [
    "data['platform_os'].astype('category').value_counts()"
   ]
  },
  {
   "cell_type": "code",
   "execution_count": 1367,
   "metadata": {},
   "outputs": [],
   "source": [
    "data['platform_os'] = data.platform_os.str.split(' ').str[0]"
   ]
  },
  {
   "cell_type": "code",
   "execution_count": 1368,
   "metadata": {},
   "outputs": [
    {
     "data": {
      "text/plain": [
       "Android           4777\n",
       "Microsoft          446\n",
       "Symbian            128\n",
       "BlackBerry          71\n",
       "iOS                 46\n",
       "Linux               26\n",
       "Symbian,            21\n",
       "watchOS             19\n",
       "Firefox             15\n",
       "Tizen-based         14\n",
       "Android-based       12\n",
       "Palm                10\n",
       "bada                10\n",
       "Nokia                8\n",
       "KaiOS                8\n",
       "HP                   8\n",
       "Symbian^3,           7\n",
       "Tizen                7\n",
       "Windows              6\n",
       "Customized           5\n",
       "Proprietary          4\n",
       "Danger               3\n",
       "LiMo                 3\n",
       "MeeGo                3\n",
       "Sailfish             3\n",
       "MediaTek             3\n",
       "TouchWiz             2\n",
       "Linux-based          2\n",
       "iOS,                 2\n",
       "Internet             2\n",
       "Open                 2\n",
       "Android-based,       2\n",
       "WinCE                1\n",
       "Android,             1\n",
       "Wearable             1\n",
       "Bada,                1\n",
       "Maemo                1\n",
       "Chrome               1\n",
       "Tencent              1\n",
       "MS                   1\n",
       "OPhone               1\n",
       "Huawei               1\n",
       "Nucleus              1\n",
       "Amazon               1\n",
       "Name: platform_os, dtype: int64"
      ]
     },
     "execution_count": 1368,
     "metadata": {},
     "output_type": "execute_result"
    }
   ],
   "source": [
    "data['platform_os'].astype('category').value_counts()"
   ]
  },
  {
   "cell_type": "code",
   "execution_count": 1369,
   "metadata": {},
   "outputs": [],
   "source": [
    "#getting rid of commas after some words\n",
    "data['platform_os'] = data['platform_os'].str.replace(',','')"
   ]
  },
  {
   "cell_type": "code",
   "execution_count": 1370,
   "metadata": {},
   "outputs": [],
   "source": [
    "#gathering less frequent values under \"Other\" category\n",
    "data['platform_os'] = data['platform_os'].astype('category')\n",
    "\n",
    "others = data['platform_os'].value_counts().index[11:]\n",
    "label = 'Other'\n",
    "\n",
    "data['platform_os'] = data['platform_os'].cat.add_categories([label])\n",
    "data['platform_os'] = data['platform_os'].replace(others, label)"
   ]
  },
  {
   "cell_type": "code",
   "execution_count": 1371,
   "metadata": {},
   "outputs": [
    {
     "data": {
      "text/plain": [
       "Android          4778\n",
       "Microsoft         446\n",
       "Symbian           149\n",
       "Other              97\n",
       "BlackBerry         71\n",
       "iOS                48\n",
       "Linux              26\n",
       "watchOS            19\n",
       "Firefox            15\n",
       "Android-based      14\n",
       "Tizen-based        14\n",
       "Palm               10\n",
       "Huawei              0\n",
       "LiMo                0\n",
       "KaiOS               0\n",
       "Internet            0\n",
       "Windows             0\n",
       "HP                  0\n",
       "MS                  0\n",
       "Danger              0\n",
       "Customized          0\n",
       "Chrome              0\n",
       "Bada                0\n",
       "Linux-based         0\n",
       "MediaTek            0\n",
       "Maemo               0\n",
       "WinCE               0\n",
       "MeeGo               0\n",
       "Nokia               0\n",
       "Nucleus             0\n",
       "OPhone              0\n",
       "Open                0\n",
       "Proprietary         0\n",
       "Sailfish            0\n",
       "bada                0\n",
       "Symbian^3           0\n",
       "Tencent             0\n",
       "Tizen               0\n",
       "TouchWiz            0\n",
       "Wearable            0\n",
       "Amazon              0\n",
       "Name: platform_os, dtype: int64"
      ]
     },
     "execution_count": 1371,
     "metadata": {},
     "output_type": "execute_result"
    }
   ],
   "source": [
    "data['platform_os'].astype('category').value_counts()"
   ]
  },
  {
   "cell_type": "code",
   "execution_count": 1372,
   "metadata": {},
   "outputs": [
    {
     "data": {
      "text/html": [
       "<div>\n",
       "<style scoped>\n",
       "    .dataframe tbody tr th:only-of-type {\n",
       "        vertical-align: middle;\n",
       "    }\n",
       "\n",
       "    .dataframe tbody tr th {\n",
       "        vertical-align: top;\n",
       "    }\n",
       "\n",
       "    .dataframe thead th {\n",
       "        text-align: right;\n",
       "    }\n",
       "</style>\n",
       "<table border=\"1\" class=\"dataframe\">\n",
       "  <thead>\n",
       "    <tr style=\"text-align: right;\">\n",
       "      <th></th>\n",
       "      <th>Amazon</th>\n",
       "      <th>Android</th>\n",
       "      <th>Android-based</th>\n",
       "      <th>Bada</th>\n",
       "      <th>BlackBerry</th>\n",
       "      <th>Chrome</th>\n",
       "      <th>Customized</th>\n",
       "      <th>Danger</th>\n",
       "      <th>Firefox</th>\n",
       "      <th>HP</th>\n",
       "      <th>...</th>\n",
       "      <th>Tizen</th>\n",
       "      <th>Tizen-based</th>\n",
       "      <th>TouchWiz</th>\n",
       "      <th>Wearable</th>\n",
       "      <th>WinCE</th>\n",
       "      <th>Windows</th>\n",
       "      <th>bada</th>\n",
       "      <th>iOS</th>\n",
       "      <th>watchOS</th>\n",
       "      <th>Other</th>\n",
       "    </tr>\n",
       "  </thead>\n",
       "  <tbody>\n",
       "    <tr>\n",
       "      <th>0</th>\n",
       "      <td>0</td>\n",
       "      <td>0</td>\n",
       "      <td>0</td>\n",
       "      <td>0</td>\n",
       "      <td>0</td>\n",
       "      <td>0</td>\n",
       "      <td>0</td>\n",
       "      <td>0</td>\n",
       "      <td>0</td>\n",
       "      <td>0</td>\n",
       "      <td>...</td>\n",
       "      <td>0</td>\n",
       "      <td>0</td>\n",
       "      <td>0</td>\n",
       "      <td>0</td>\n",
       "      <td>0</td>\n",
       "      <td>0</td>\n",
       "      <td>0</td>\n",
       "      <td>0</td>\n",
       "      <td>0</td>\n",
       "      <td>1</td>\n",
       "    </tr>\n",
       "    <tr>\n",
       "      <th>1</th>\n",
       "      <td>0</td>\n",
       "      <td>1</td>\n",
       "      <td>0</td>\n",
       "      <td>0</td>\n",
       "      <td>0</td>\n",
       "      <td>0</td>\n",
       "      <td>0</td>\n",
       "      <td>0</td>\n",
       "      <td>0</td>\n",
       "      <td>0</td>\n",
       "      <td>...</td>\n",
       "      <td>0</td>\n",
       "      <td>0</td>\n",
       "      <td>0</td>\n",
       "      <td>0</td>\n",
       "      <td>0</td>\n",
       "      <td>0</td>\n",
       "      <td>0</td>\n",
       "      <td>0</td>\n",
       "      <td>0</td>\n",
       "      <td>0</td>\n",
       "    </tr>\n",
       "    <tr>\n",
       "      <th>2</th>\n",
       "      <td>0</td>\n",
       "      <td>1</td>\n",
       "      <td>0</td>\n",
       "      <td>0</td>\n",
       "      <td>0</td>\n",
       "      <td>0</td>\n",
       "      <td>0</td>\n",
       "      <td>0</td>\n",
       "      <td>0</td>\n",
       "      <td>0</td>\n",
       "      <td>...</td>\n",
       "      <td>0</td>\n",
       "      <td>0</td>\n",
       "      <td>0</td>\n",
       "      <td>0</td>\n",
       "      <td>0</td>\n",
       "      <td>0</td>\n",
       "      <td>0</td>\n",
       "      <td>0</td>\n",
       "      <td>0</td>\n",
       "      <td>0</td>\n",
       "    </tr>\n",
       "    <tr>\n",
       "      <th>3</th>\n",
       "      <td>0</td>\n",
       "      <td>1</td>\n",
       "      <td>0</td>\n",
       "      <td>0</td>\n",
       "      <td>0</td>\n",
       "      <td>0</td>\n",
       "      <td>0</td>\n",
       "      <td>0</td>\n",
       "      <td>0</td>\n",
       "      <td>0</td>\n",
       "      <td>...</td>\n",
       "      <td>0</td>\n",
       "      <td>0</td>\n",
       "      <td>0</td>\n",
       "      <td>0</td>\n",
       "      <td>0</td>\n",
       "      <td>0</td>\n",
       "      <td>0</td>\n",
       "      <td>0</td>\n",
       "      <td>0</td>\n",
       "      <td>0</td>\n",
       "    </tr>\n",
       "    <tr>\n",
       "      <th>4</th>\n",
       "      <td>0</td>\n",
       "      <td>1</td>\n",
       "      <td>0</td>\n",
       "      <td>0</td>\n",
       "      <td>0</td>\n",
       "      <td>0</td>\n",
       "      <td>0</td>\n",
       "      <td>0</td>\n",
       "      <td>0</td>\n",
       "      <td>0</td>\n",
       "      <td>...</td>\n",
       "      <td>0</td>\n",
       "      <td>0</td>\n",
       "      <td>0</td>\n",
       "      <td>0</td>\n",
       "      <td>0</td>\n",
       "      <td>0</td>\n",
       "      <td>0</td>\n",
       "      <td>0</td>\n",
       "      <td>0</td>\n",
       "      <td>0</td>\n",
       "    </tr>\n",
       "  </tbody>\n",
       "</table>\n",
       "<p>5 rows × 41 columns</p>\n",
       "</div>"
      ],
      "text/plain": [
       "   Amazon  Android  Android-based  Bada  BlackBerry  Chrome  Customized  \\\n",
       "0       0        0              0     0           0       0           0   \n",
       "1       0        1              0     0           0       0           0   \n",
       "2       0        1              0     0           0       0           0   \n",
       "3       0        1              0     0           0       0           0   \n",
       "4       0        1              0     0           0       0           0   \n",
       "\n",
       "   Danger  Firefox  HP  ...  Tizen  Tizen-based  TouchWiz  Wearable  WinCE  \\\n",
       "0       0        0   0  ...      0            0         0         0      0   \n",
       "1       0        0   0  ...      0            0         0         0      0   \n",
       "2       0        0   0  ...      0            0         0         0      0   \n",
       "3       0        0   0  ...      0            0         0         0      0   \n",
       "4       0        0   0  ...      0            0         0         0      0   \n",
       "\n",
       "   Windows  bada  iOS  watchOS  Other  \n",
       "0        0     0    0        0      1  \n",
       "1        0     0    0        0      0  \n",
       "2        0     0    0        0      0  \n",
       "3        0     0    0        0      0  \n",
       "4        0     0    0        0      0  \n",
       "\n",
       "[5 rows x 41 columns]"
      ]
     },
     "execution_count": 1372,
     "metadata": {},
     "output_type": "execute_result"
    }
   ],
   "source": [
    "plat_os2 = pd.get_dummies(data[\"platform_os\"])\n",
    "plat_os2.head()"
   ]
  },
  {
   "cell_type": "code",
   "execution_count": 1373,
   "metadata": {},
   "outputs": [
    {
     "data": {
      "text/plain": [
       "CategoricalIndex(['Amazon', 'Android', 'Android-based', 'Bada', 'BlackBerry',\n",
       "                  'Chrome', 'Customized', 'Danger', 'Firefox', 'HP', 'Huawei',\n",
       "                  'Internet', 'KaiOS', 'LiMo', 'Linux', 'Linux-based', 'MS',\n",
       "                  'Maemo', 'MediaTek', 'MeeGo', 'Microsoft', 'Nokia',\n",
       "                  'Nucleus', 'OPhone', 'Open', 'Palm', 'Proprietary',\n",
       "                  'Sailfish', 'Symbian', 'Symbian^3', 'Tencent', 'Tizen',\n",
       "                  'Tizen-based', 'TouchWiz', 'Wearable', 'WinCE', 'Windows',\n",
       "                  'bada', 'iOS', 'watchOS', 'Other'],\n",
       "                 categories=['Amazon', 'Android', 'Android-based', 'Bada', 'BlackBerry', 'Chrome', 'Customized', 'Danger', ...], ordered=False, dtype='category')"
      ]
     },
     "execution_count": 1373,
     "metadata": {},
     "output_type": "execute_result"
    }
   ],
   "source": [
    "plat_os2.columns"
   ]
  },
  {
   "cell_type": "code",
   "execution_count": 1374,
   "metadata": {},
   "outputs": [],
   "source": [
    "#taking only columns that contain values\n",
    "plat_os2 = plat_os2[['Android', 'Microsoft', 'Symbian', 'Other', 'BlackBerry', 'iOS','Linux', 'watchOS', 'Firefox', 'Android-based', 'Tizen-based','Palm']]"
   ]
  },
  {
   "cell_type": "markdown",
   "metadata": {},
   "source": [
    "#### 'display_size' column"
   ]
  },
  {
   "cell_type": "code",
   "execution_count": 1375,
   "metadata": {},
   "outputs": [
    {
     "data": {
      "text/plain": [
       "5.0 inches, 68.9 cm                                  37\n",
       "5.0 inches, 68.9 cm (~65.8% screen-to-body ratio)    34\n",
       "5.0 inches, 68.9 cm (~66.0% screen-to-body ratio)    32\n",
       "5.0 inches, 68.9 cm (~66.7% screen-to-body ratio)    30\n",
       "5.0 inches, 68.9 cm (~66.2% screen-to-body ratio)    28\n",
       "5.0 inches, 68.9 cm (~66.9% screen-to-body ratio)    27\n",
       "5.0 inches, 68.9 cm (~67.9% screen-to-body ratio)    27\n",
       "5.0 inches, 68.9 cm (~66.5% screen-to-body ratio)    27\n",
       "4.0 inches, 45.5 cm                                  26\n",
       "5.0 inches, 68.9 cm (~65.3% screen-to-body ratio)    25\n",
       "Name: display_size, dtype: int64"
      ]
     },
     "execution_count": 1375,
     "metadata": {},
     "output_type": "execute_result"
    }
   ],
   "source": [
    "data['display_size'].astype('category').value_counts()[0:10]"
   ]
  },
  {
   "cell_type": "code",
   "execution_count": 1376,
   "metadata": {},
   "outputs": [],
   "source": [
    "data['display_size'] = data.display_size.str.split(' ').str[0]"
   ]
  },
  {
   "cell_type": "code",
   "execution_count": 1377,
   "metadata": {},
   "outputs": [
    {
     "data": {
      "text/plain": [
       "5.0    1006\n",
       "5.5     575\n",
       "4.0     472\n",
       "2.4     440\n",
       "2.0     424\n",
       "Name: display_size, dtype: int64"
      ]
     },
     "execution_count": 1377,
     "metadata": {},
     "output_type": "execute_result"
    }
   ],
   "source": [
    "data['display_size'].astype('category').value_counts()[0:5]"
   ]
  },
  {
   "cell_type": "code",
   "execution_count": 1378,
   "metadata": {},
   "outputs": [
    {
     "data": {
      "text/plain": [
       "dtype('O')"
      ]
     },
     "execution_count": 1378,
     "metadata": {},
     "output_type": "execute_result"
    }
   ],
   "source": [
    "data['display_size'].dtype"
   ]
  },
  {
   "cell_type": "code",
   "execution_count": 1379,
   "metadata": {},
   "outputs": [],
   "source": [
    "data['display_size'] = data['display_size'].str.extract('(\\d*\\.\\d+|\\d+)', expand=False)"
   ]
  },
  {
   "cell_type": "code",
   "execution_count": 1380,
   "metadata": {},
   "outputs": [],
   "source": [
    "data['display_size'] = data['display_size'].astype(str).astype(float)"
   ]
  },
  {
   "cell_type": "code",
   "execution_count": 1381,
   "metadata": {},
   "outputs": [
    {
     "data": {
      "text/plain": [
       "dtype('float64')"
      ]
     },
     "execution_count": 1381,
     "metadata": {},
     "output_type": "execute_result"
    }
   ],
   "source": [
    "data['display_size'].dtype"
   ]
  },
  {
   "cell_type": "markdown",
   "metadata": {},
   "source": [
    "#### 'memory_internal' column  (all values are in GB)"
   ]
  },
  {
   "cell_type": "code",
   "execution_count": 1382,
   "metadata": {},
   "outputs": [
    {
     "data": {
      "text/plain": [
       "16                    1103\n",
       "8                      980\n",
       "4                      835\n",
       "32                     534\n",
       "64                     320\n",
       "16.0                   155\n",
       "0.5                    141\n",
       "4.0                    129\n",
       "8.0                    128\n",
       "0.03125                124\n",
       "0.048828125            114\n",
       "0.0625                 105\n",
       "0.009765625            104\n",
       "0.125                  101\n",
       "0.00195                101\n",
       "0.01953125              98\n",
       "0.5                     93\n",
       "128                     88\n",
       "0.0390625               85\n",
       "64.0                    82\n",
       "0.078125                79\n",
       "0.00390625              73\n",
       "2                       70\n",
       "0.029296875             70\n",
       "32.0                    69\n",
       "0.25                    67\n",
       "1                       64\n",
       "0.05859375              63\n",
       "0.000976563             61\n",
       "0.004882813             60\n",
       "                      ... \n",
       "1.1                      4\n",
       "1.0                      3\n",
       "0.390625                 3\n",
       "1024                     3\n",
       "2.0                      2\n",
       "0.78125                  2\n",
       "13.3                     2\n",
       "11                       2\n",
       "2.9                      2\n",
       "20                       1\n",
       "16GB                     1\n",
       "0.5859375                1\n",
       "0.9296875                1\n",
       "0.9521484379999999       1\n",
       "1.7                      1\n",
       "1.65                     1\n",
       "6.5                      1\n",
       "1.4                      1\n",
       "4MB                      1\n",
       "0.46875                  1\n",
       "0.458984375              1\n",
       "0.439453125              1\n",
       "0.4296875                1\n",
       "0.419921875              1\n",
       "4GB                      1\n",
       "0.400390625              1\n",
       "0.380859375              1\n",
       "2.5                      1\n",
       "13.2                     1\n",
       "8.5                      1\n",
       "Name: memory_internal, Length: 104, dtype: int64"
      ]
     },
     "execution_count": 1382,
     "metadata": {},
     "output_type": "execute_result"
    }
   ],
   "source": [
    "data['memory_internal'].astype('category').value_counts()"
   ]
  },
  {
   "cell_type": "code",
   "execution_count": 1383,
   "metadata": {},
   "outputs": [],
   "source": [
    "#extracting only numbers\n",
    "data['memory_internal'] = data['memory_internal'].str.extract('(\\d*\\.\\d+|\\d+)', expand=False)"
   ]
  },
  {
   "cell_type": "code",
   "execution_count": 1384,
   "metadata": {},
   "outputs": [],
   "source": [
    "data['memory_internal'] = data['memory_internal'].astype(str).astype(float)"
   ]
  },
  {
   "cell_type": "markdown",
   "metadata": {},
   "source": [
    "#### \"RAM\" column (all values are in GB)"
   ]
  },
  {
   "cell_type": "code",
   "execution_count": 1385,
   "metadata": {},
   "outputs": [
    {
     "data": {
      "text/plain": [
       "1.0000    1576\n",
       "0.5000     892\n",
       "2.0000     781\n",
       "3.0000     477\n",
       "4.0000     380\n",
       "0.2500     256\n",
       "0.0625     222\n",
       "6.0000     146\n",
       "0.1250     135\n",
       "1.5000      88\n",
       "Name: RAM, dtype: int64"
      ]
     },
     "execution_count": 1385,
     "metadata": {},
     "output_type": "execute_result"
    }
   ],
   "source": [
    "data['RAM'].astype('category').value_counts()[0:10]"
   ]
  },
  {
   "cell_type": "code",
   "execution_count": 1386,
   "metadata": {},
   "outputs": [],
   "source": [
    "data['RAM'] = data['RAM'].astype(str).astype(float)"
   ]
  },
  {
   "cell_type": "markdown",
   "metadata": {},
   "source": [
    "#### 'main_camera_single' column"
   ]
  },
  {
   "cell_type": "code",
   "execution_count": 1387,
   "metadata": {},
   "outputs": [
    {
     "data": {
      "text/plain": [
       "2 MP           994\n",
       "5 MP, AF       943\n",
       "8 MP, AF       874\n",
       "1.3 MP         730\n",
       "VGA            706\n",
       "3.15 MP        529\n",
       "5 MP           401\n",
       "13 MP, AF      338\n",
       "3.15 MP, AF    264\n",
       "8 MP            90\n",
       "Name: main_camera_single, dtype: int64"
      ]
     },
     "execution_count": 1387,
     "metadata": {},
     "output_type": "execute_result"
    }
   ],
   "source": [
    "data['main_camera_single'].astype('category').value_counts()[0:10]"
   ]
  },
  {
   "cell_type": "code",
   "execution_count": 1388,
   "metadata": {},
   "outputs": [],
   "source": [
    "data['main_camera_single'] = data.main_camera_single.str.split(' ').str[0]"
   ]
  },
  {
   "cell_type": "code",
   "execution_count": 1389,
   "metadata": {},
   "outputs": [],
   "source": [
    "data['main_camera_single'] = data['main_camera_single'].str.extract('(\\d*\\.\\d+|\\d+)', expand=False)"
   ]
  },
  {
   "cell_type": "code",
   "execution_count": 1390,
   "metadata": {},
   "outputs": [],
   "source": [
    "data['main_camera_single'] = data['main_camera_single'].astype(str).astype(float)"
   ]
  },
  {
   "cell_type": "markdown",
   "metadata": {},
   "source": [
    "#### 'elfie_camera_single' column"
   ]
  },
  {
   "cell_type": "code",
   "execution_count": 1391,
   "metadata": {},
   "outputs": [
    {
     "data": {
      "text/plain": [
       "VGA       833\n",
       "2 MP      755\n",
       "5 MP      666\n",
       "1.3 MP    379\n",
       "Yes       296\n",
       "Name: selfie_camera_single, dtype: int64"
      ]
     },
     "execution_count": 1391,
     "metadata": {},
     "output_type": "execute_result"
    }
   ],
   "source": [
    "data['selfie_camera_single'].astype('category').value_counts()[0:5]"
   ]
  },
  {
   "cell_type": "code",
   "execution_count": 1392,
   "metadata": {},
   "outputs": [],
   "source": [
    "data['selfie_camera_single'] = data.selfie_camera_single.str.split(' ').str[0]"
   ]
  },
  {
   "cell_type": "code",
   "execution_count": 1393,
   "metadata": {},
   "outputs": [],
   "source": [
    "data['selfie_camera_single'] = data['selfie_camera_single'].str.extract('(\\d*\\.\\d+|\\d+)', expand=False)"
   ]
  },
  {
   "cell_type": "code",
   "execution_count": 1394,
   "metadata": {},
   "outputs": [],
   "source": [
    "data['selfie_camera_single'] = data['selfie_camera_single'].astype(str).astype(float)"
   ]
  },
  {
   "cell_type": "markdown",
   "metadata": {},
   "source": [
    "#### 'battery' column"
   ]
  },
  {
   "cell_type": "code",
   "execution_count": 1395,
   "metadata": {},
   "outputs": [
    {
     "data": {
      "text/plain": [
       "Removable Li-Ion battery                 546\n",
       "Removable Li-Ion 1000 mAh battery        392\n",
       "Removable Li-Ion 800 mAh battery         306\n",
       "Removable Li-Ion 1500 mAh battery        305\n",
       "Removable Li-Ion 2000 mAh battery        233\n",
       "Non-removable Li-Ion 3000 mAh battery    201\n",
       "Removable Li-Ion 1200 mAh battery        149\n",
       "Removable Li-Ion 1300 mAh battery        132\n",
       "Removable Li-Ion 900 mAh battery         122\n",
       "Removable Li-Ion 1800 mAh battery        121\n",
       "Name: battery, dtype: int64"
      ]
     },
     "execution_count": 1395,
     "metadata": {},
     "output_type": "execute_result"
    }
   ],
   "source": [
    "data['battery'].astype('category').value_counts()[0:10]"
   ]
  },
  {
   "cell_type": "code",
   "execution_count": 1396,
   "metadata": {},
   "outputs": [],
   "source": [
    "data['battery'] = data['battery'].str.extract('(\\d*\\.\\d+|\\d+)', expand=False)"
   ]
  },
  {
   "cell_type": "code",
   "execution_count": 1397,
   "metadata": {},
   "outputs": [],
   "source": [
    "data['battery'] = data['battery'].astype(str).astype(float)"
   ]
  },
  {
   "cell_type": "markdown",
   "metadata": {},
   "source": [
    "#### 'battery stand-by' column"
   ]
  },
  {
   "cell_type": "code",
   "execution_count": 1398,
   "metadata": {},
   "outputs": [
    {
     "data": {
      "text/plain": [
       "Up to 200 h    391\n",
       "Up to 300 h    331\n",
       "Up to 250 h    290\n",
       "Up to 400 h    239\n",
       "Up to 240 h    161\n",
       "Up to 150 h    158\n",
       "Up to 350 h    139\n",
       "Up to 180 h     96\n",
       "Up to 220 h     94\n",
       "Up to 120 h     93\n",
       "Name: battery_stand-by, dtype: int64"
      ]
     },
     "execution_count": 1398,
     "metadata": {},
     "output_type": "execute_result"
    }
   ],
   "source": [
    "data['battery_stand-by'].astype('category').value_counts()[0:10]"
   ]
  },
  {
   "cell_type": "code",
   "execution_count": 1399,
   "metadata": {},
   "outputs": [],
   "source": [
    "data['battery_stand-by'] = data['battery_stand-by'].str.extract('(\\d*\\.\\d+|\\d+)', expand=False)"
   ]
  },
  {
   "cell_type": "code",
   "execution_count": 1400,
   "metadata": {},
   "outputs": [],
   "source": [
    "data['battery_stand-by'] = data['battery_stand-by'].astype(str).astype(float)"
   ]
  },
  {
   "cell_type": "markdown",
   "metadata": {},
   "source": [
    "#### 'price' column"
   ]
  },
  {
   "cell_type": "code",
   "execution_count": 1401,
   "metadata": {},
   "outputs": [],
   "source": [
    "data['price'] = data['price'].str.extract('(\\d*\\.\\d+|\\d+)', expand=False)"
   ]
  },
  {
   "cell_type": "code",
   "execution_count": 1402,
   "metadata": {},
   "outputs": [],
   "source": [
    "data['price'] = data['price'].astype(str).astype(float)"
   ]
  },
  {
   "cell_type": "markdown",
   "metadata": {},
   "source": [
    "# Data Exploration"
   ]
  },
  {
   "cell_type": "code",
   "execution_count": 1403,
   "metadata": {},
   "outputs": [
    {
     "data": {
      "text/html": [
       "<div>\n",
       "<style scoped>\n",
       "    .dataframe tbody tr th:only-of-type {\n",
       "        vertical-align: middle;\n",
       "    }\n",
       "\n",
       "    .dataframe tbody tr th {\n",
       "        vertical-align: top;\n",
       "    }\n",
       "\n",
       "    .dataframe thead th {\n",
       "        text-align: right;\n",
       "    }\n",
       "</style>\n",
       "<table border=\"1\" class=\"dataframe\">\n",
       "  <thead>\n",
       "    <tr style=\"text-align: right;\">\n",
       "      <th></th>\n",
       "      <th>brand</th>\n",
       "      <th>model</th>\n",
       "      <th>body_weight</th>\n",
       "      <th>body_sim</th>\n",
       "      <th>display_size</th>\n",
       "      <th>platform_os</th>\n",
       "      <th>memory_internal</th>\n",
       "      <th>main_camera_single</th>\n",
       "      <th>selfie_camera_single</th>\n",
       "      <th>battery</th>\n",
       "      <th>price</th>\n",
       "      <th>battery_stand-by</th>\n",
       "      <th>RAM</th>\n",
       "    </tr>\n",
       "  </thead>\n",
       "  <tbody>\n",
       "    <tr>\n",
       "      <th>0</th>\n",
       "      <td>Acer</td>\n",
       "      <td>Chromebook Tab 10</td>\n",
       "      <td>544.3</td>\n",
       "      <td>NaN</td>\n",
       "      <td>9.7</td>\n",
       "      <td>Other</td>\n",
       "      <td>32.0</td>\n",
       "      <td>5.0</td>\n",
       "      <td>2.0</td>\n",
       "      <td>4500.0</td>\n",
       "      <td>330.0</td>\n",
       "      <td>NaN</td>\n",
       "      <td>4.0</td>\n",
       "    </tr>\n",
       "    <tr>\n",
       "      <th>1</th>\n",
       "      <td>Acer</td>\n",
       "      <td>Iconia Talk S</td>\n",
       "      <td>260.0</td>\n",
       "      <td>NaN</td>\n",
       "      <td>7.0</td>\n",
       "      <td>Android</td>\n",
       "      <td>32.0</td>\n",
       "      <td>13.0</td>\n",
       "      <td>2.0</td>\n",
       "      <td>3400.0</td>\n",
       "      <td>170.0</td>\n",
       "      <td>NaN</td>\n",
       "      <td>2.0</td>\n",
       "    </tr>\n",
       "    <tr>\n",
       "      <th>2</th>\n",
       "      <td>Acer</td>\n",
       "      <td>Liquid Z6 Plus</td>\n",
       "      <td>169.0</td>\n",
       "      <td>NaN</td>\n",
       "      <td>5.5</td>\n",
       "      <td>Android</td>\n",
       "      <td>32.0</td>\n",
       "      <td>13.0</td>\n",
       "      <td>5.0</td>\n",
       "      <td>4080.0</td>\n",
       "      <td>250.0</td>\n",
       "      <td>NaN</td>\n",
       "      <td>3.0</td>\n",
       "    </tr>\n",
       "    <tr>\n",
       "      <th>3</th>\n",
       "      <td>Acer</td>\n",
       "      <td>Liquid Z6</td>\n",
       "      <td>126.0</td>\n",
       "      <td>NaN</td>\n",
       "      <td>5.0</td>\n",
       "      <td>Android</td>\n",
       "      <td>8.0</td>\n",
       "      <td>8.0</td>\n",
       "      <td>2.0</td>\n",
       "      <td>2000.0</td>\n",
       "      <td>120.0</td>\n",
       "      <td>NaN</td>\n",
       "      <td>1.0</td>\n",
       "    </tr>\n",
       "    <tr>\n",
       "      <th>4</th>\n",
       "      <td>Acer</td>\n",
       "      <td>Iconia Tab 10 A3-A40</td>\n",
       "      <td>NaN</td>\n",
       "      <td>NaN</td>\n",
       "      <td>10.1</td>\n",
       "      <td>Android</td>\n",
       "      <td>64.0</td>\n",
       "      <td>5.0</td>\n",
       "      <td>2.0</td>\n",
       "      <td>6100.0</td>\n",
       "      <td>230.0</td>\n",
       "      <td>NaN</td>\n",
       "      <td>2.0</td>\n",
       "    </tr>\n",
       "  </tbody>\n",
       "</table>\n",
       "</div>"
      ],
      "text/plain": [
       "  brand                 model  body_weight body_sim  display_size platform_os  \\\n",
       "0  Acer     Chromebook Tab 10        544.3      NaN           9.7       Other   \n",
       "1  Acer         Iconia Talk S        260.0      NaN           7.0     Android   \n",
       "2  Acer        Liquid Z6 Plus        169.0      NaN           5.5     Android   \n",
       "3  Acer             Liquid Z6        126.0      NaN           5.0     Android   \n",
       "4  Acer  Iconia Tab 10 A3-A40          NaN      NaN          10.1     Android   \n",
       "\n",
       "   memory_internal  main_camera_single  selfie_camera_single  battery  price  \\\n",
       "0             32.0                 5.0                   2.0   4500.0  330.0   \n",
       "1             32.0                13.0                   2.0   3400.0  170.0   \n",
       "2             32.0                13.0                   5.0   4080.0  250.0   \n",
       "3              8.0                 8.0                   2.0   2000.0  120.0   \n",
       "4             64.0                 5.0                   2.0   6100.0  230.0   \n",
       "\n",
       "   battery_stand-by  RAM  \n",
       "0               NaN  4.0  \n",
       "1               NaN  2.0  \n",
       "2               NaN  3.0  \n",
       "3               NaN  1.0  \n",
       "4               NaN  2.0  "
      ]
     },
     "execution_count": 1403,
     "metadata": {},
     "output_type": "execute_result"
    }
   ],
   "source": [
    "data.head()"
   ]
  },
  {
   "cell_type": "code",
   "execution_count": 1404,
   "metadata": {},
   "outputs": [
    {
     "name": "stdout",
     "output_type": "stream",
     "text": [
      "<class 'pandas.core.frame.DataFrame'>\n",
      "RangeIndex: 8980 entries, 0 to 8979\n",
      "Data columns (total 13 columns):\n",
      "brand                   8980 non-null object\n",
      "model                   8980 non-null object\n",
      "body_weight             8090 non-null float64\n",
      "body_sim                4827 non-null object\n",
      "display_size            8158 non-null float64\n",
      "platform_os             5687 non-null category\n",
      "memory_internal         6323 non-null float64\n",
      "main_camera_single      6776 non-null float64\n",
      "selfie_camera_single    3399 non-null float64\n",
      "battery                 8203 non-null float64\n",
      "price                   5700 non-null float64\n",
      "battery_stand-by        6209 non-null float64\n",
      "RAM                     5275 non-null float64\n",
      "dtypes: category(1), float64(9), object(3)\n",
      "memory usage: 852.3+ KB\n"
     ]
    }
   ],
   "source": [
    "#checking data types\n",
    "data.info()"
   ]
  },
  {
   "cell_type": "code",
   "execution_count": 1405,
   "metadata": {},
   "outputs": [],
   "source": [
    "data2 = data"
   ]
  },
  {
   "cell_type": "code",
   "execution_count": 1406,
   "metadata": {},
   "outputs": [],
   "source": [
    "#dropping non-numeric column and column that contain many null values (will add them later)\n",
    "data2 = data2.drop(['brand', 'model','platform_os', 'body_sim', 'selfie_camera_single'], axis=1) "
   ]
  },
  {
   "cell_type": "code",
   "execution_count": 1407,
   "metadata": {},
   "outputs": [
    {
     "data": {
      "text/html": [
       "<div>\n",
       "<style scoped>\n",
       "    .dataframe tbody tr th:only-of-type {\n",
       "        vertical-align: middle;\n",
       "    }\n",
       "\n",
       "    .dataframe tbody tr th {\n",
       "        vertical-align: top;\n",
       "    }\n",
       "\n",
       "    .dataframe thead th {\n",
       "        text-align: right;\n",
       "    }\n",
       "</style>\n",
       "<table border=\"1\" class=\"dataframe\">\n",
       "  <thead>\n",
       "    <tr style=\"text-align: right;\">\n",
       "      <th></th>\n",
       "      <th>body_weight</th>\n",
       "      <th>display_size</th>\n",
       "      <th>memory_internal</th>\n",
       "      <th>main_camera_single</th>\n",
       "      <th>battery</th>\n",
       "      <th>price</th>\n",
       "      <th>battery_stand-by</th>\n",
       "      <th>RAM</th>\n",
       "    </tr>\n",
       "  </thead>\n",
       "  <tbody>\n",
       "    <tr>\n",
       "      <th>0</th>\n",
       "      <td>544.3</td>\n",
       "      <td>9.7</td>\n",
       "      <td>32.0</td>\n",
       "      <td>5.0</td>\n",
       "      <td>4500.0</td>\n",
       "      <td>330.0</td>\n",
       "      <td>NaN</td>\n",
       "      <td>4.0</td>\n",
       "    </tr>\n",
       "    <tr>\n",
       "      <th>1</th>\n",
       "      <td>260.0</td>\n",
       "      <td>7.0</td>\n",
       "      <td>32.0</td>\n",
       "      <td>13.0</td>\n",
       "      <td>3400.0</td>\n",
       "      <td>170.0</td>\n",
       "      <td>NaN</td>\n",
       "      <td>2.0</td>\n",
       "    </tr>\n",
       "    <tr>\n",
       "      <th>2</th>\n",
       "      <td>169.0</td>\n",
       "      <td>5.5</td>\n",
       "      <td>32.0</td>\n",
       "      <td>13.0</td>\n",
       "      <td>4080.0</td>\n",
       "      <td>250.0</td>\n",
       "      <td>NaN</td>\n",
       "      <td>3.0</td>\n",
       "    </tr>\n",
       "    <tr>\n",
       "      <th>3</th>\n",
       "      <td>126.0</td>\n",
       "      <td>5.0</td>\n",
       "      <td>8.0</td>\n",
       "      <td>8.0</td>\n",
       "      <td>2000.0</td>\n",
       "      <td>120.0</td>\n",
       "      <td>NaN</td>\n",
       "      <td>1.0</td>\n",
       "    </tr>\n",
       "    <tr>\n",
       "      <th>4</th>\n",
       "      <td>NaN</td>\n",
       "      <td>10.1</td>\n",
       "      <td>64.0</td>\n",
       "      <td>5.0</td>\n",
       "      <td>6100.0</td>\n",
       "      <td>230.0</td>\n",
       "      <td>NaN</td>\n",
       "      <td>2.0</td>\n",
       "    </tr>\n",
       "  </tbody>\n",
       "</table>\n",
       "</div>"
      ],
      "text/plain": [
       "   body_weight  display_size  memory_internal  main_camera_single  battery  \\\n",
       "0        544.3           9.7             32.0                 5.0   4500.0   \n",
       "1        260.0           7.0             32.0                13.0   3400.0   \n",
       "2        169.0           5.5             32.0                13.0   4080.0   \n",
       "3        126.0           5.0              8.0                 8.0   2000.0   \n",
       "4          NaN          10.1             64.0                 5.0   6100.0   \n",
       "\n",
       "   price  battery_stand-by  RAM  \n",
       "0  330.0               NaN  4.0  \n",
       "1  170.0               NaN  2.0  \n",
       "2  250.0               NaN  3.0  \n",
       "3  120.0               NaN  1.0  \n",
       "4  230.0               NaN  2.0  "
      ]
     },
     "execution_count": 1407,
     "metadata": {},
     "output_type": "execute_result"
    }
   ],
   "source": [
    "data2.head()"
   ]
  },
  {
   "cell_type": "code",
   "execution_count": 1408,
   "metadata": {},
   "outputs": [
    {
     "name": "stdout",
     "output_type": "stream",
     "text": [
      "<class 'pandas.core.frame.DataFrame'>\n",
      "RangeIndex: 8980 entries, 0 to 8979\n",
      "Data columns (total 8 columns):\n",
      "body_weight           8090 non-null float64\n",
      "display_size          8158 non-null float64\n",
      "memory_internal       6323 non-null float64\n",
      "main_camera_single    6776 non-null float64\n",
      "battery               8203 non-null float64\n",
      "price                 5700 non-null float64\n",
      "battery_stand-by      6209 non-null float64\n",
      "RAM                   5275 non-null float64\n",
      "dtypes: float64(8)\n",
      "memory usage: 561.3 KB\n"
     ]
    }
   ],
   "source": [
    "data2.info()"
   ]
  },
  {
   "cell_type": "code",
   "execution_count": 1409,
   "metadata": {},
   "outputs": [],
   "source": [
    "data2 = data2.dropna()"
   ]
  },
  {
   "cell_type": "code",
   "execution_count": 1410,
   "metadata": {},
   "outputs": [
    {
     "name": "stdout",
     "output_type": "stream",
     "text": [
      "<class 'pandas.core.frame.DataFrame'>\n",
      "Int64Index: 1492 entries, 5 to 8115\n",
      "Data columns (total 8 columns):\n",
      "body_weight           1492 non-null float64\n",
      "display_size          1492 non-null float64\n",
      "memory_internal       1492 non-null float64\n",
      "main_camera_single    1492 non-null float64\n",
      "battery               1492 non-null float64\n",
      "price                 1492 non-null float64\n",
      "battery_stand-by      1492 non-null float64\n",
      "RAM                   1492 non-null float64\n",
      "dtypes: float64(8)\n",
      "memory usage: 104.9 KB\n"
     ]
    }
   ],
   "source": [
    "data2.info()"
   ]
  },
  {
   "cell_type": "code",
   "execution_count": 1411,
   "metadata": {},
   "outputs": [
    {
     "data": {
      "text/plain": [
       "<Figure size 1440x720 with 0 Axes>"
      ]
     },
     "metadata": {},
     "output_type": "display_data"
    },
    {
     "data": {
      "image/png": "[encoded data removed]",
      "text/plain": [
       "<Figure size 1440x1440 with 72 Axes>"
      ]
     },
     "metadata": {
      "needs_background": "light"
     },
     "output_type": "display_data"
    }
   ],
   "source": [
    "plt.figure(figsize=(20, 10))\n",
    "sns.pairplot(data2)\n",
    "plt.show()"
   ]
  },
  {
   "cell_type": "markdown",
   "metadata": {},
   "source": [
    "#### Exploring values of \"price\" column"
   ]
  },
  {
   "cell_type": "code",
   "execution_count": 1412,
   "metadata": {},
   "outputs": [
    {
     "data": {
      "image/png": "[encoded data removed]",
      "text/plain": [
       "<Figure size 432x288 with 1 Axes>"
      ]
     },
     "metadata": {
      "needs_background": "light"
     },
     "output_type": "display_data"
    }
   ],
   "source": [
    "sns.distplot(data2['price'])\n",
    "plt.show()"
   ]
  },
  {
   "cell_type": "code",
   "execution_count": 1413,
   "metadata": {},
   "outputs": [
    {
     "data": {
      "text/plain": [
       "<matplotlib.axes._subplots.AxesSubplot at 0x2cca5731f28>"
      ]
     },
     "execution_count": 1413,
     "metadata": {},
     "output_type": "execute_result"
    },
    {
     "data": {
      "image/png": "[encoded data removed]",
      "text/plain": [
       "<Figure size 432x288 with 1 Axes>"
      ]
     },
     "metadata": {
      "needs_background": "light"
     },
     "output_type": "display_data"
    }
   ],
   "source": [
    "import seaborn as sns\n",
    "sns.boxplot(x=data2['price'])\n",
    "#outliers are detected"
   ]
  },
  {
   "cell_type": "code",
   "execution_count": 1414,
   "metadata": {},
   "outputs": [],
   "source": [
    "Q1 = data2['price'].quantile(0.25)\n",
    "Q3 = data2['price'].quantile(0.75)\n",
    "IQR = Q3 - Q1\n",
    "\n",
    "outliers = data2[(data2['price'] <= Q1 - 1.5 * IQR) | (data2['price'] >= Q3 + 1.5 *IQR)]['price']"
   ]
  },
  {
   "cell_type": "code",
   "execution_count": 1415,
   "metadata": {},
   "outputs": [
    {
     "data": {
      "text/plain": [
       "70        490.0\n",
       "188       460.0\n",
       "491       450.0\n",
       "493       420.0\n",
       "528       490.0\n",
       "543       470.0\n",
       "675       470.0\n",
       "676       500.0\n",
       "687       420.0\n",
       "696       500.0\n",
       "863       510.0\n",
       "874       730.0\n",
       "885      1000.0\n",
       "890       450.0\n",
       "1061      430.0\n",
       "1075      800.0\n",
       "1445      450.0\n",
       "1447      900.0\n",
       "1450      440.0\n",
       "1453      460.0\n",
       "1777      450.0\n",
       "1911      460.0\n",
       "1930      420.0\n",
       "1936      480.0\n",
       "2162      480.0\n",
       "2199      420.0\n",
       "2351      640.0\n",
       "2362      660.0\n",
       "2649      550.0\n",
       "2888      444.0\n",
       "3140      430.0\n",
       "3142      430.0\n",
       "3165      480.0\n",
       "3170      420.0\n",
       "3917     5000.0\n",
       "3918     4500.0\n",
       "3921    10000.0\n",
       "4301      420.0\n",
       "5067      440.0\n",
       "5084      420.0\n",
       "6194      850.0\n",
       "6339      450.0\n",
       "6370      440.0\n",
       "6384      480.0\n",
       "6418      680.0\n",
       "6425      420.0\n",
       "6452      440.0\n",
       "7319      470.0\n",
       "7419      700.0\n",
       "7420      700.0\n",
       "7421      490.0\n",
       "7891      420.0\n",
       "7974      540.0\n",
       "8030     5440.0\n",
       "8031     8290.0\n",
       "Name: price, dtype: float64"
      ]
     },
     "execution_count": 1415,
     "metadata": {},
     "output_type": "execute_result"
    }
   ],
   "source": [
    "outliers"
   ]
  },
  {
   "cell_type": "code",
   "execution_count": 1416,
   "metadata": {},
   "outputs": [],
   "source": [
    "#getting rid of outliers\n",
    "filter = (data2['price'] >= Q1 - 1.5 * IQR) & (data2['price'] <= Q3 + 1.5 *IQR)\n",
    "data2 = data2.loc[filter] "
   ]
  },
  {
   "cell_type": "code",
   "execution_count": 1417,
   "metadata": {},
   "outputs": [
    {
     "name": "stdout",
     "output_type": "stream",
     "text": [
      "<class 'pandas.core.frame.DataFrame'>\n",
      "Int64Index: 1446 entries, 5 to 8115\n",
      "Data columns (total 8 columns):\n",
      "body_weight           1446 non-null float64\n",
      "display_size          1446 non-null float64\n",
      "memory_internal       1446 non-null float64\n",
      "main_camera_single    1446 non-null float64\n",
      "battery               1446 non-null float64\n",
      "price                 1446 non-null float64\n",
      "battery_stand-by      1446 non-null float64\n",
      "RAM                   1446 non-null float64\n",
      "dtypes: float64(8)\n",
      "memory usage: 101.7 KB\n"
     ]
    }
   ],
   "source": [
    "data2.info()"
   ]
  },
  {
   "cell_type": "code",
   "execution_count": 1418,
   "metadata": {},
   "outputs": [
    {
     "data": {
      "text/plain": [
       "<matplotlib.axes._subplots.AxesSubplot at 0x2cca5a45400>"
      ]
     },
     "execution_count": 1418,
     "metadata": {},
     "output_type": "execute_result"
    },
    {
     "data": {
      "image/png": "[encoded data removed]",
      "text/plain": [
       "<Figure size 432x288 with 1 Axes>"
      ]
     },
     "metadata": {
      "needs_background": "light"
     },
     "output_type": "display_data"
    }
   ],
   "source": [
    "import seaborn as sns\n",
    "sns.boxplot(x=data2['price'])"
   ]
  },
  {
   "cell_type": "code",
   "execution_count": 1419,
   "metadata": {},
   "outputs": [
    {
     "data": {
      "image/png": "[encoded data removed]",
      "text/plain": [
       "<Figure size 864x432 with 2 Axes>"
      ]
     },
     "metadata": {
      "needs_background": "light"
     },
     "output_type": "display_data"
    }
   ],
   "source": [
    "cor = data2.corr()\n",
    "plt.figure(figsize=(12,6))\n",
    "sns.heatmap(cor, cmap=\"YlGnBu\", annot=True)\n",
    "plt.show()"
   ]
  },
  {
   "cell_type": "markdown",
   "metadata": {},
   "source": [
    "# Data Preparation"
   ]
  },
  {
   "cell_type": "code",
   "execution_count": 1420,
   "metadata": {},
   "outputs": [],
   "source": [
    "# concat dummy variables with data2\n",
    "data2 = pd.concat([data2, sim2], axis=1)"
   ]
  },
  {
   "cell_type": "code",
   "execution_count": 1421,
   "metadata": {},
   "outputs": [],
   "source": [
    "data2 = pd.concat([data2, plat_os2], axis=1)"
   ]
  },
  {
   "cell_type": "code",
   "execution_count": 1422,
   "metadata": {},
   "outputs": [],
   "source": [
    "data2 = data2.dropna()"
   ]
  },
  {
   "cell_type": "code",
   "execution_count": 1423,
   "metadata": {},
   "outputs": [
    {
     "data": {
      "text/plain": [
       "(1446, 23)"
      ]
     },
     "execution_count": 1423,
     "metadata": {},
     "output_type": "execute_result"
    }
   ],
   "source": [
    "data2.shape"
   ]
  },
  {
   "cell_type": "code",
   "execution_count": 1424,
   "metadata": {},
   "outputs": [
    {
     "data": {
      "text/plain": [
       "Index(['body_weight', 'display_size', 'memory_internal', 'main_camera_single',\n",
       "       'battery', 'price', 'battery_stand-by', 'RAM', 'Micro', 'Mini', 'Nano',\n",
       "       'Android', 'Microsoft', 'Symbian', 'Other', 'BlackBerry', 'iOS',\n",
       "       'Linux', 'watchOS', 'Firefox', 'Android-based', 'Tizen-based', 'Palm'],\n",
       "      dtype='object')"
      ]
     },
     "execution_count": 1424,
     "metadata": {},
     "output_type": "execute_result"
    }
   ],
   "source": [
    "data2.columns"
   ]
  },
  {
   "cell_type": "code",
   "execution_count": 1425,
   "metadata": {},
   "outputs": [],
   "source": [
    "X = data2[['body_weight', 'display_size', 'memory_internal', 'main_camera_single',\n",
    "       'battery', 'battery_stand-by', 'RAM', 'Micro', 'Mini', 'Nano',\n",
    "       'Android', 'Microsoft', 'Symbian', 'Other', 'BlackBerry', 'iOS',\n",
    "       'Linux', 'watchOS', 'Firefox', 'Android-based', 'Tizen-based', 'Palm']].values"
   ]
  },
  {
   "cell_type": "code",
   "execution_count": 1426,
   "metadata": {},
   "outputs": [],
   "source": [
    "y = data2['price'].values"
   ]
  },
  {
   "cell_type": "code",
   "execution_count": 1427,
   "metadata": {},
   "outputs": [],
   "source": [
    "# Scaling the features\n",
    "X = preprocessing.StandardScaler().fit(X).transform(X.astype(float))"
   ]
  },
  {
   "cell_type": "code",
   "execution_count": 1428,
   "metadata": {},
   "outputs": [],
   "source": [
    "from sklearn.model_selection import train_test_split\n",
    "X_train, X_test, y_train, y_test = train_test_split(X, y, test_size = 0.2, random_state=0)"
   ]
  },
  {
   "cell_type": "code",
   "execution_count": 1429,
   "metadata": {},
   "outputs": [
    {
     "name": "stdout",
     "output_type": "stream",
     "text": [
      "Train set: (1156, 22) (1156,)\n",
      "Test set: (290, 22) (290,)\n"
     ]
    }
   ],
   "source": [
    "print ('Train set:', X_train.shape,  y_train.shape)\n",
    "print ('Test set:', X_test.shape,  y_test.shape)"
   ]
  },
  {
   "cell_type": "markdown",
   "metadata": {},
   "source": [
    "# Building model"
   ]
  },
  {
   "cell_type": "markdown",
   "metadata": {},
   "source": [
    "### 1. Linear Regression"
   ]
  },
  {
   "cell_type": "markdown",
   "metadata": {},
   "source": [
    "First Linear Regression model will be used to provide baseline level of accuracy."
   ]
  },
  {
   "cell_type": "code",
   "execution_count": 1430,
   "metadata": {},
   "outputs": [],
   "source": [
    "lm = LinearRegression()"
   ]
  },
  {
   "cell_type": "code",
   "execution_count": 1431,
   "metadata": {},
   "outputs": [
    {
     "data": {
      "text/plain": [
       "LinearRegression(copy_X=True, fit_intercept=True, n_jobs=None, normalize=False)"
      ]
     },
     "execution_count": 1431,
     "metadata": {},
     "output_type": "execute_result"
    }
   ],
   "source": [
    "lm.fit(X_train, y_train)"
   ]
  },
  {
   "cell_type": "code",
   "execution_count": 1432,
   "metadata": {},
   "outputs": [
    {
     "name": "stdout",
     "output_type": "stream",
     "text": [
      "[-2.27443170e+00  1.53536662e+01  2.19460528e+01  7.68387714e-01\n",
      "  6.60397932e+00 -5.85596061e-01  1.59689477e+01  1.76217803e+01\n",
      "  1.55381801e+01  1.08597701e+01  2.17825992e+00 -1.58166070e+00\n",
      "  3.15346280e-02  6.59839645e-01 -5.22285772e+00  8.97531035e+00\n",
      " -3.29877232e+00  4.44089210e-16  4.44089210e-16 -1.24823183e+00\n",
      "  5.80017649e+00  5.57543159e-01]\n",
      "179.97392894247218\n"
     ]
    }
   ],
   "source": [
    "#coefficients and intercept\n",
    "print(lm.coef_)\n",
    "print(lm.intercept_)"
   ]
  },
  {
   "cell_type": "code",
   "execution_count": 1433,
   "metadata": {},
   "outputs": [],
   "source": [
    "y_pred = lm.predict(X_test)"
   ]
  },
  {
   "cell_type": "code",
   "execution_count": 1434,
   "metadata": {},
   "outputs": [
    {
     "data": {
      "text/plain": [
       "array([160.4782694 , 222.54195342,  97.1842182 , 147.17564404,\n",
       "        98.33033366, 164.01674664])"
      ]
     },
     "execution_count": 1434,
     "metadata": {},
     "output_type": "execute_result"
    }
   ],
   "source": [
    "y_pred[0:6]"
   ]
  },
  {
   "cell_type": "code",
   "execution_count": 1435,
   "metadata": {},
   "outputs": [
    {
     "data": {
      "text/html": [
       "<div>\n",
       "<style scoped>\n",
       "    .dataframe tbody tr th:only-of-type {\n",
       "        vertical-align: middle;\n",
       "    }\n",
       "\n",
       "    .dataframe tbody tr th {\n",
       "        vertical-align: top;\n",
       "    }\n",
       "\n",
       "    .dataframe thead th {\n",
       "        text-align: right;\n",
       "    }\n",
       "</style>\n",
       "<table border=\"1\" class=\"dataframe\">\n",
       "  <thead>\n",
       "    <tr style=\"text-align: right;\">\n",
       "      <th></th>\n",
       "      <th>Actual</th>\n",
       "      <th>Predicted</th>\n",
       "    </tr>\n",
       "  </thead>\n",
       "  <tbody>\n",
       "    <tr>\n",
       "      <th>0</th>\n",
       "      <td>270.0</td>\n",
       "      <td>160.478269</td>\n",
       "    </tr>\n",
       "    <tr>\n",
       "      <th>1</th>\n",
       "      <td>370.0</td>\n",
       "      <td>222.541953</td>\n",
       "    </tr>\n",
       "    <tr>\n",
       "      <th>2</th>\n",
       "      <td>120.0</td>\n",
       "      <td>97.184218</td>\n",
       "    </tr>\n",
       "    <tr>\n",
       "      <th>3</th>\n",
       "      <td>180.0</td>\n",
       "      <td>147.175644</td>\n",
       "    </tr>\n",
       "    <tr>\n",
       "      <th>4</th>\n",
       "      <td>70.0</td>\n",
       "      <td>98.330334</td>\n",
       "    </tr>\n",
       "    <tr>\n",
       "      <th>5</th>\n",
       "      <td>110.0</td>\n",
       "      <td>164.016747</td>\n",
       "    </tr>\n",
       "    <tr>\n",
       "      <th>6</th>\n",
       "      <td>100.0</td>\n",
       "      <td>153.076764</td>\n",
       "    </tr>\n",
       "  </tbody>\n",
       "</table>\n",
       "</div>"
      ],
      "text/plain": [
       "   Actual   Predicted\n",
       "0   270.0  160.478269\n",
       "1   370.0  222.541953\n",
       "2   120.0   97.184218\n",
       "3   180.0  147.175644\n",
       "4    70.0   98.330334\n",
       "5   110.0  164.016747\n",
       "6   100.0  153.076764"
      ]
     },
     "execution_count": 1435,
     "metadata": {},
     "output_type": "execute_result"
    }
   ],
   "source": [
    "df2 = pd.DataFrame({'Actual': y_test, 'Predicted': y_pred})\n",
    "df2[0:7]"
   ]
  },
  {
   "cell_type": "code",
   "execution_count": 1436,
   "metadata": {},
   "outputs": [
    {
     "data": {
      "image/png": "[encoded data removed]",
      "text/plain": [
       "<Figure size 432x432 with 1 Axes>"
      ]
     },
     "metadata": {
      "needs_background": "light"
     },
     "output_type": "display_data"
    }
   ],
   "source": [
    "plt.figure(figsize= (6, 6))\n",
    "plt.title(\"Visualizing the Linaer Regression algorithm\")\n",
    "sns.regplot(y_pred, y_test, color = \"teal\")\n",
    "plt.xlabel(\"Predicted Price\")\n",
    "plt.ylabel(\"Actual Price\")\n",
    "plt.show()"
   ]
  },
  {
   "cell_type": "code",
   "execution_count": 1437,
   "metadata": {},
   "outputs": [
    {
     "name": "stdout",
     "output_type": "stream",
     "text": [
      "Mean Absolute Error: 48.129\n",
      "Mean Squared Error: 3671.64\n",
      "The R2 Square Value:  43.393\n"
     ]
    }
   ],
   "source": [
    "print(\"Mean Absolute Error:\", round(mean_absolute_error(y_test, y_pred),3))\n",
    "print(\"Mean Squared Error:\", round(mean_squared_error(y_test, y_pred),3))\n",
    "print(\"The R2 Square Value: \", round(r2_score(y_test, y_pred)*100,3))"
   ]
  },
  {
   "cell_type": "markdown",
   "metadata": {},
   "source": [
    "### 2. XGBoost"
   ]
  },
  {
   "cell_type": "code",
   "execution_count": 1438,
   "metadata": {},
   "outputs": [
    {
     "name": "stdout",
     "output_type": "stream",
     "text": [
      "[09:16:41] WARNING: C:/Jenkins/workspace/xgboost-win64_release_0.90/src/objective/regression_obj.cu:152: reg:linear is now deprecated in favor of reg:squarederror.\n"
     ]
    },
    {
     "data": {
      "text/plain": [
       "XGBRegressor(base_score=0.5, booster='gbtree', colsample_bylevel=1,\n",
       "             colsample_bynode=1, colsample_bytree=1, gamma=0,\n",
       "             importance_type='gain', learning_rate=0.1, max_delta_step=0,\n",
       "             max_depth=3, min_child_weight=1, missing=None, n_estimators=100,\n",
       "             n_jobs=1, nthread=None, objective='reg:linear', random_state=0,\n",
       "             reg_alpha=0, reg_lambda=1, scale_pos_weight=1, seed=None,\n",
       "             silent=None, subsample=1, verbosity=1)"
      ]
     },
     "execution_count": 1438,
     "metadata": {},
     "output_type": "execute_result"
    }
   ],
   "source": [
    "xgb_reg = xgb.XGBRegressor()\n",
    "xgb_reg.fit(X_train, y_train)"
   ]
  },
  {
   "cell_type": "code",
   "execution_count": 1439,
   "metadata": {},
   "outputs": [],
   "source": [
    "training_pred = xgb_reg.predict(X_train)\n",
    "y_pred_xgb = xgb_reg.predict(X_test)"
   ]
  },
  {
   "cell_type": "code",
   "execution_count": 1440,
   "metadata": {},
   "outputs": [],
   "source": [
    "#changing X_train array to dataframe for finding weights\n",
    "dt_X_train = pd.DataFrame(data=X_train) "
   ]
  },
  {
   "cell_type": "code",
   "execution_count": 1441,
   "metadata": {},
   "outputs": [],
   "source": [
    "dt_X_train.columns = ['body_weight', 'display_size', 'memory_internal', 'main_camera_single',\n",
    "       'battery', 'battery_stand-by', 'RAM', 'Micro_sim', 'Mini_sim', 'Nano_sim',\n",
    "       'Android_os', 'Microsoft_os', 'Symbian_os', 'Other_os', 'BlackBerry_os', 'iOS_os',\n",
    "       'Linux_os', 'watchOS_os', 'Firefox_os', 'Android-based_os', 'Tizen-based_os', 'Palm_os']"
   ]
  },
  {
   "cell_type": "code",
   "execution_count": 1442,
   "metadata": {},
   "outputs": [
    {
     "data": {
      "text/html": [
       "<div>\n",
       "<style scoped>\n",
       "    .dataframe tbody tr th:only-of-type {\n",
       "        vertical-align: middle;\n",
       "    }\n",
       "\n",
       "    .dataframe tbody tr th {\n",
       "        vertical-align: top;\n",
       "    }\n",
       "\n",
       "    .dataframe thead th {\n",
       "        text-align: right;\n",
       "    }\n",
       "</style>\n",
       "<table border=\"1\" class=\"dataframe\">\n",
       "  <thead>\n",
       "    <tr style=\"text-align: right;\">\n",
       "      <th></th>\n",
       "      <th>body_weight</th>\n",
       "      <th>display_size</th>\n",
       "      <th>memory_internal</th>\n",
       "      <th>main_camera_single</th>\n",
       "      <th>battery</th>\n",
       "      <th>battery_stand-by</th>\n",
       "      <th>RAM</th>\n",
       "      <th>Micro_sim</th>\n",
       "      <th>Mini_sim</th>\n",
       "      <th>Nano_sim</th>\n",
       "      <th>...</th>\n",
       "      <th>Symbian_os</th>\n",
       "      <th>Other_os</th>\n",
       "      <th>BlackBerry_os</th>\n",
       "      <th>iOS_os</th>\n",
       "      <th>Linux_os</th>\n",
       "      <th>watchOS_os</th>\n",
       "      <th>Firefox_os</th>\n",
       "      <th>Android-based_os</th>\n",
       "      <th>Tizen-based_os</th>\n",
       "      <th>Palm_os</th>\n",
       "    </tr>\n",
       "  </thead>\n",
       "  <tbody>\n",
       "    <tr>\n",
       "      <th>0</th>\n",
       "      <td>-0.558775</td>\n",
       "      <td>0.300528</td>\n",
       "      <td>-0.241241</td>\n",
       "      <td>0.314355</td>\n",
       "      <td>-0.113572</td>\n",
       "      <td>-0.481357</td>\n",
       "      <td>-0.115048</td>\n",
       "      <td>-0.478066</td>\n",
       "      <td>-0.692850</td>\n",
       "      <td>-0.256097</td>\n",
       "      <td>...</td>\n",
       "      <td>-0.155175</td>\n",
       "      <td>-0.098876</td>\n",
       "      <td>-0.118428</td>\n",
       "      <td>-0.095246</td>\n",
       "      <td>-0.045596</td>\n",
       "      <td>0.0</td>\n",
       "      <td>0.0</td>\n",
       "      <td>-0.045596</td>\n",
       "      <td>-0.037216</td>\n",
       "      <td>-0.037216</td>\n",
       "    </tr>\n",
       "    <tr>\n",
       "      <th>1</th>\n",
       "      <td>0.027990</td>\n",
       "      <td>0.431139</td>\n",
       "      <td>0.476512</td>\n",
       "      <td>0.789636</td>\n",
       "      <td>0.796465</td>\n",
       "      <td>0.964872</td>\n",
       "      <td>1.999862</td>\n",
       "      <td>2.091761</td>\n",
       "      <td>-0.692850</td>\n",
       "      <td>-0.256097</td>\n",
       "      <td>...</td>\n",
       "      <td>-0.155175</td>\n",
       "      <td>-0.098876</td>\n",
       "      <td>-0.118428</td>\n",
       "      <td>-0.095246</td>\n",
       "      <td>-0.045596</td>\n",
       "      <td>0.0</td>\n",
       "      <td>0.0</td>\n",
       "      <td>-0.045596</td>\n",
       "      <td>-0.037216</td>\n",
       "      <td>-0.037216</td>\n",
       "    </tr>\n",
       "    <tr>\n",
       "      <th>2</th>\n",
       "      <td>-0.182360</td>\n",
       "      <td>0.431139</td>\n",
       "      <td>1.912018</td>\n",
       "      <td>0.789636</td>\n",
       "      <td>0.573093</td>\n",
       "      <td>0.522969</td>\n",
       "      <td>1.999862</td>\n",
       "      <td>-0.478066</td>\n",
       "      <td>-0.692850</td>\n",
       "      <td>3.904765</td>\n",
       "      <td>...</td>\n",
       "      <td>-0.155175</td>\n",
       "      <td>-0.098876</td>\n",
       "      <td>-0.118428</td>\n",
       "      <td>-0.095246</td>\n",
       "      <td>-0.045596</td>\n",
       "      <td>0.0</td>\n",
       "      <td>0.0</td>\n",
       "      <td>-0.045596</td>\n",
       "      <td>-0.037216</td>\n",
       "      <td>-0.037216</td>\n",
       "    </tr>\n",
       "    <tr>\n",
       "      <th>3</th>\n",
       "      <td>-0.193431</td>\n",
       "      <td>0.104611</td>\n",
       "      <td>-0.600118</td>\n",
       "      <td>0.252630</td>\n",
       "      <td>-0.196302</td>\n",
       "      <td>-1.244644</td>\n",
       "      <td>-0.115048</td>\n",
       "      <td>-0.478066</td>\n",
       "      <td>-0.692850</td>\n",
       "      <td>-0.256097</td>\n",
       "      <td>...</td>\n",
       "      <td>-0.155175</td>\n",
       "      <td>-0.098876</td>\n",
       "      <td>-0.118428</td>\n",
       "      <td>-0.095246</td>\n",
       "      <td>-0.045596</td>\n",
       "      <td>0.0</td>\n",
       "      <td>0.0</td>\n",
       "      <td>-0.045596</td>\n",
       "      <td>-0.037216</td>\n",
       "      <td>-0.037216</td>\n",
       "    </tr>\n",
       "    <tr>\n",
       "      <th>4</th>\n",
       "      <td>-0.746983</td>\n",
       "      <td>-0.874973</td>\n",
       "      <td>-0.779556</td>\n",
       "      <td>-0.179444</td>\n",
       "      <td>-0.932605</td>\n",
       "      <td>0.201585</td>\n",
       "      <td>-0.643775</td>\n",
       "      <td>-0.478066</td>\n",
       "      <td>1.443314</td>\n",
       "      <td>-0.256097</td>\n",
       "      <td>...</td>\n",
       "      <td>6.444332</td>\n",
       "      <td>-0.098876</td>\n",
       "      <td>-0.118428</td>\n",
       "      <td>-0.095246</td>\n",
       "      <td>-0.045596</td>\n",
       "      <td>0.0</td>\n",
       "      <td>0.0</td>\n",
       "      <td>-0.045596</td>\n",
       "      <td>-0.037216</td>\n",
       "      <td>-0.037216</td>\n",
       "    </tr>\n",
       "  </tbody>\n",
       "</table>\n",
       "<p>5 rows × 22 columns</p>\n",
       "</div>"
      ],
      "text/plain": [
       "   body_weight  display_size  memory_internal  main_camera_single   battery  \\\n",
       "0    -0.558775      0.300528        -0.241241            0.314355 -0.113572   \n",
       "1     0.027990      0.431139         0.476512            0.789636  0.796465   \n",
       "2    -0.182360      0.431139         1.912018            0.789636  0.573093   \n",
       "3    -0.193431      0.104611        -0.600118            0.252630 -0.196302   \n",
       "4    -0.746983     -0.874973        -0.779556           -0.179444 -0.932605   \n",
       "\n",
       "   battery_stand-by       RAM  Micro_sim  Mini_sim  Nano_sim  ...  Symbian_os  \\\n",
       "0         -0.481357 -0.115048  -0.478066 -0.692850 -0.256097  ...   -0.155175   \n",
       "1          0.964872  1.999862   2.091761 -0.692850 -0.256097  ...   -0.155175   \n",
       "2          0.522969  1.999862  -0.478066 -0.692850  3.904765  ...   -0.155175   \n",
       "3         -1.244644 -0.115048  -0.478066 -0.692850 -0.256097  ...   -0.155175   \n",
       "4          0.201585 -0.643775  -0.478066  1.443314 -0.256097  ...    6.444332   \n",
       "\n",
       "   Other_os  BlackBerry_os    iOS_os  Linux_os  watchOS_os  Firefox_os  \\\n",
       "0 -0.098876      -0.118428 -0.095246 -0.045596         0.0         0.0   \n",
       "1 -0.098876      -0.118428 -0.095246 -0.045596         0.0         0.0   \n",
       "2 -0.098876      -0.118428 -0.095246 -0.045596         0.0         0.0   \n",
       "3 -0.098876      -0.118428 -0.095246 -0.045596         0.0         0.0   \n",
       "4 -0.098876      -0.118428 -0.095246 -0.045596         0.0         0.0   \n",
       "\n",
       "   Android-based_os  Tizen-based_os   Palm_os  \n",
       "0         -0.045596       -0.037216 -0.037216  \n",
       "1         -0.045596       -0.037216 -0.037216  \n",
       "2         -0.045596       -0.037216 -0.037216  \n",
       "3         -0.045596       -0.037216 -0.037216  \n",
       "4         -0.045596       -0.037216 -0.037216  \n",
       "\n",
       "[5 rows x 22 columns]"
      ]
     },
     "execution_count": 1442,
     "metadata": {},
     "output_type": "execute_result"
    }
   ],
   "source": [
    "dt_X_train.head()"
   ]
  },
  {
   "cell_type": "code",
   "execution_count": 1443,
   "metadata": {},
   "outputs": [
    {
     "data": {
      "text/html": [
       "<div>\n",
       "<style scoped>\n",
       "    .dataframe tbody tr th:only-of-type {\n",
       "        vertical-align: middle;\n",
       "    }\n",
       "\n",
       "    .dataframe tbody tr th {\n",
       "        vertical-align: top;\n",
       "    }\n",
       "\n",
       "    .dataframe thead th {\n",
       "        text-align: right;\n",
       "    }\n",
       "</style>\n",
       "<table border=\"1\" class=\"dataframe\">\n",
       "  <thead>\n",
       "    <tr style=\"text-align: right;\">\n",
       "      <th></th>\n",
       "      <th>0</th>\n",
       "      <th>1</th>\n",
       "      <th>2</th>\n",
       "      <th>3</th>\n",
       "      <th>4</th>\n",
       "      <th>5</th>\n",
       "      <th>6</th>\n",
       "      <th>7</th>\n",
       "      <th>8</th>\n",
       "      <th>9</th>\n",
       "      <th>...</th>\n",
       "      <th>12</th>\n",
       "      <th>13</th>\n",
       "      <th>14</th>\n",
       "      <th>15</th>\n",
       "      <th>16</th>\n",
       "      <th>17</th>\n",
       "      <th>18</th>\n",
       "      <th>19</th>\n",
       "      <th>20</th>\n",
       "      <th>21</th>\n",
       "    </tr>\n",
       "  </thead>\n",
       "  <tbody>\n",
       "    <tr>\n",
       "      <th>0</th>\n",
       "      <td>body_weight</td>\n",
       "      <td>display_size</td>\n",
       "      <td>memory_internal</td>\n",
       "      <td>main_camera_single</td>\n",
       "      <td>battery</td>\n",
       "      <td>battery_stand-by</td>\n",
       "      <td>RAM</td>\n",
       "      <td>Micro_sim</td>\n",
       "      <td>Mini_sim</td>\n",
       "      <td>Nano_sim</td>\n",
       "      <td>...</td>\n",
       "      <td>Symbian_os</td>\n",
       "      <td>Other_os</td>\n",
       "      <td>BlackBerry_os</td>\n",
       "      <td>iOS_os</td>\n",
       "      <td>Linux_os</td>\n",
       "      <td>watchOS_os</td>\n",
       "      <td>Firefox_os</td>\n",
       "      <td>Android-based_os</td>\n",
       "      <td>Tizen-based_os</td>\n",
       "      <td>Palm_os</td>\n",
       "    </tr>\n",
       "    <tr>\n",
       "      <th>1</th>\n",
       "      <td>-2.27443</td>\n",
       "      <td>15.3537</td>\n",
       "      <td>21.9461</td>\n",
       "      <td>0.768388</td>\n",
       "      <td>6.60398</td>\n",
       "      <td>-0.585596</td>\n",
       "      <td>15.9689</td>\n",
       "      <td>17.6218</td>\n",
       "      <td>15.5382</td>\n",
       "      <td>10.8598</td>\n",
       "      <td>...</td>\n",
       "      <td>0.0315346</td>\n",
       "      <td>0.65984</td>\n",
       "      <td>-5.22286</td>\n",
       "      <td>8.97531</td>\n",
       "      <td>-3.29877</td>\n",
       "      <td>4.44089e-16</td>\n",
       "      <td>4.44089e-16</td>\n",
       "      <td>-1.24823</td>\n",
       "      <td>5.80018</td>\n",
       "      <td>0.557543</td>\n",
       "    </tr>\n",
       "  </tbody>\n",
       "</table>\n",
       "<p>2 rows × 22 columns</p>\n",
       "</div>"
      ],
      "text/plain": [
       "            0             1                2                   3        4   \\\n",
       "0  body_weight  display_size  memory_internal  main_camera_single  battery   \n",
       "1     -2.27443       15.3537          21.9461            0.768388  6.60398   \n",
       "\n",
       "                 5        6          7         8         9   ...          12  \\\n",
       "0  battery_stand-by      RAM  Micro_sim  Mini_sim  Nano_sim  ...  Symbian_os   \n",
       "1         -0.585596  15.9689    17.6218   15.5382   10.8598  ...   0.0315346   \n",
       "\n",
       "         13             14       15        16           17           18  \\\n",
       "0  Other_os  BlackBerry_os   iOS_os  Linux_os   watchOS_os   Firefox_os   \n",
       "1   0.65984       -5.22286  8.97531  -3.29877  4.44089e-16  4.44089e-16   \n",
       "\n",
       "                 19              20        21  \n",
       "0  Android-based_os  Tizen-based_os   Palm_os  \n",
       "1          -1.24823         5.80018  0.557543  \n",
       "\n",
       "[2 rows x 22 columns]"
      ]
     },
     "execution_count": 1443,
     "metadata": {},
     "output_type": "execute_result"
    }
   ],
   "source": [
    "pd.DataFrame(data=[dt_X_train.columns, lm.coef_])"
   ]
  },
  {
   "cell_type": "code",
   "execution_count": 1444,
   "metadata": {},
   "outputs": [
    {
     "data": {
      "image/png": "[encoded data removed]",
      "text/plain": [
       "<Figure size 432x432 with 1 Axes>"
      ]
     },
     "metadata": {
      "needs_background": "light"
     },
     "output_type": "display_data"
    }
   ],
   "source": [
    "plt.figure(figsize= (6, 6))\n",
    "plt.title(\"Visualizing the XGBoost algorithm\")\n",
    "sns.regplot(y_pred_xgb, y_test, color = \"teal\")\n",
    "plt.xlabel(\"Predicted Price\")\n",
    "plt.ylabel(\"Actual Price\")\n",
    "plt.show()"
   ]
  },
  {
   "cell_type": "code",
   "execution_count": 1445,
   "metadata": {},
   "outputs": [
    {
     "name": "stdout",
     "output_type": "stream",
     "text": [
      "Mean Absolute Error: 42.644\n",
      "Mean Squared Error: 2919.478\n",
      "The R2 Square Value:  54.989\n"
     ]
    }
   ],
   "source": [
    "print(\"Mean Absolute Error:\", round(mean_absolute_error(y_test, y_pred_xgb),3))\n",
    "print(\"Mean Squared Error:\", round(mean_squared_error(y_test, y_pred_xgb),3))\n",
    "print(\"The R2 Square Value: \", round(r2_score(y_test, y_pred_xgb)*100,3))"
   ]
  },
  {
   "cell_type": "markdown",
   "metadata": {},
   "source": [
    "### 3.Lasso Regression"
   ]
  },
  {
   "cell_type": "code",
   "execution_count": 1446,
   "metadata": {},
   "outputs": [],
   "source": [
    "reg = linear_model.Lasso(alpha=0.1)"
   ]
  },
  {
   "cell_type": "code",
   "execution_count": 1447,
   "metadata": {},
   "outputs": [
    {
     "data": {
      "text/plain": [
       "Lasso(alpha=0.1, copy_X=True, fit_intercept=True, max_iter=1000,\n",
       "      normalize=False, positive=False, precompute=False, random_state=None,\n",
       "      selection='cyclic', tol=0.0001, warm_start=False)"
      ]
     },
     "execution_count": 1447,
     "metadata": {},
     "output_type": "execute_result"
    }
   ],
   "source": [
    "reg.fit(X_train, y_train)"
   ]
  },
  {
   "cell_type": "code",
   "execution_count": 1448,
   "metadata": {},
   "outputs": [],
   "source": [
    "y_pred_lasso = reg.predict(X_test)"
   ]
  },
  {
   "cell_type": "code",
   "execution_count": 1449,
   "metadata": {},
   "outputs": [
    {
     "data": {
      "text/plain": [
       "array([159.98807478, 221.54500616,  98.17986151, 148.86057881,\n",
       "        99.35314258])"
      ]
     },
     "execution_count": 1449,
     "metadata": {},
     "output_type": "execute_result"
    }
   ],
   "source": [
    "y_pred_lasso[0:5]"
   ]
  },
  {
   "cell_type": "code",
   "execution_count": 1450,
   "metadata": {},
   "outputs": [
    {
     "data": {
      "image/png": "[encoded data removed]",
      "text/plain": [
       "<Figure size 432x432 with 1 Axes>"
      ]
     },
     "metadata": {
      "needs_background": "light"
     },
     "output_type": "display_data"
    }
   ],
   "source": [
    "plt.figure(figsize= (6, 6))\n",
    "plt.title(\"Visualizing the Lasso Regression algorithm\")\n",
    "sns.regplot(y_pred_lasso, y_test, color = \"teal\")\n",
    "plt.xlabel(\"Predicted Price\")\n",
    "plt.ylabel(\"Actual Price\")\n",
    "plt.show()"
   ]
  },
  {
   "cell_type": "code",
   "execution_count": 1451,
   "metadata": {},
   "outputs": [
    {
     "name": "stdout",
     "output_type": "stream",
     "text": [
      "Mean Absolute Error: 48.097\n",
      "Mean Squared Error: 3665.716\n",
      "The R2 Square Value:  43.484\n"
     ]
    }
   ],
   "source": [
    "print(\"Mean Absolute Error:\", round(mean_absolute_error(y_test, y_pred_lasso),3))\n",
    "print(\"Mean Squared Error:\", round(mean_squared_error(y_test, y_pred_lasso),3))\n",
    "print(\"The R2 Square Value: \", round(r2_score(y_test, y_pred_lasso)*100,3))"
   ]
  },
  {
   "cell_type": "markdown",
   "metadata": {},
   "source": [
    "### 4. Random Forest"
   ]
  },
  {
   "cell_type": "code",
   "execution_count": 1452,
   "metadata": {},
   "outputs": [
    {
     "name": "stderr",
     "output_type": "stream",
     "text": [
      "c:\\users\\lusine\\anaconda2\\envs\\py36\\lib\\site-packages\\sklearn\\ensemble\\forest.py:245: FutureWarning: The default value of n_estimators will change from 10 in version 0.20 to 100 in 0.22.\n",
      "  \"10 in version 0.20 to 100 in 0.22.\", FutureWarning)\n"
     ]
    },
    {
     "data": {
      "text/plain": [
       "RandomForestRegressor(bootstrap=True, criterion='mse', max_depth=None,\n",
       "                      max_features='auto', max_leaf_nodes=None,\n",
       "                      min_impurity_decrease=0.0, min_impurity_split=None,\n",
       "                      min_samples_leaf=1, min_samples_split=2,\n",
       "                      min_weight_fraction_leaf=0.0, n_estimators=10,\n",
       "                      n_jobs=None, oob_score=False, random_state=None,\n",
       "                      verbose=0, warm_start=False)"
      ]
     },
     "execution_count": 1452,
     "metadata": {},
     "output_type": "execute_result"
    }
   ],
   "source": [
    "rand = RandomForestRegressor()\n",
    "rand.fit(X_train, y_train)"
   ]
  },
  {
   "cell_type": "code",
   "execution_count": 1453,
   "metadata": {},
   "outputs": [],
   "source": [
    "y_pred_rf = rand.predict(X_test)"
   ]
  },
  {
   "cell_type": "code",
   "execution_count": 1454,
   "metadata": {},
   "outputs": [
    {
     "data": {
      "image/png": "[encoded data removed]",
      "text/plain": [
       "<Figure size 432x432 with 1 Axes>"
      ]
     },
     "metadata": {
      "needs_background": "light"
     },
     "output_type": "display_data"
    }
   ],
   "source": [
    "plt.figure(figsize= (6, 6))\n",
    "plt.title(\"Visualizing the Random Forest algorithm\")\n",
    "sns.regplot(y_pred_rf, y_test, color = \"teal\")\n",
    "plt.xlabel(\"Predicted Price\")\n",
    "plt.ylabel(\"Actual Price\")\n",
    "plt.show()"
   ]
  },
  {
   "cell_type": "code",
   "execution_count": 1455,
   "metadata": {},
   "outputs": [
    {
     "name": "stdout",
     "output_type": "stream",
     "text": [
      "Mean Absolute Error: 44.1\n",
      "Mean Squared Error: 3431.032\n",
      "The R2 Square Value:  47.102\n"
     ]
    }
   ],
   "source": [
    "print(\"Mean Absolute Error:\", round(mean_absolute_error(y_test, y_pred_rf),3))\n",
    "print(\"Mean Squared Error:\", round(mean_squared_error(y_test, y_pred_rf),3))\n",
    "print(\"The R2 Square Value: \", round(r2_score(y_test, y_pred_rf)*100,3))"
   ]
  },
  {
   "cell_type": "markdown",
   "metadata": {},
   "source": [
    "# Conclusion"
   ]
  },
  {
   "cell_type": "code",
   "execution_count": 1456,
   "metadata": {},
   "outputs": [
    {
     "data": {
      "image/png": "[encoded data removed]",
      "text/plain": [
       "<Figure size 432x288 with 1 Axes>"
      ]
     },
     "metadata": {
      "needs_background": "light"
     },
     "output_type": "display_data"
    }
   ],
   "source": [
    "models = ['Linear Reg.', 'XGBoost', 'Lasso Reg.', 'Random Forest']\n",
    "acc_scores = [43.393, 54.989, 43.484, 43.352]\n",
    "\n",
    "plt.bar(models, acc_scores, color=['lightblue', 'lightcoral', 'y', 'silver'])\n",
    "plt.ylabel(\"accuracy scores\")\n",
    "plt.title(\"Which model is the most accurate?\")\n",
    "plt.show()"
   ]
  },
  {
   "cell_type": "markdown",
   "metadata": {},
   "source": [
    "XGBoost model (Model 2) is the preferred model, since it has the highest accuracy. Howerver this model only explained 55% variation in price. A significant proportion of this unexplained variance is due to missing values."
   ]
  },
  {
   "cell_type": "code",
   "execution_count": 1457,
   "metadata": {},
   "outputs": [
    {
     "data": {
      "text/html": [
       "<div>\n",
       "<style scoped>\n",
       "    .dataframe tbody tr th:only-of-type {\n",
       "        vertical-align: middle;\n",
       "    }\n",
       "\n",
       "    .dataframe tbody tr th {\n",
       "        vertical-align: top;\n",
       "    }\n",
       "\n",
       "    .dataframe thead th {\n",
       "        text-align: right;\n",
       "    }\n",
       "</style>\n",
       "<table border=\"1\" class=\"dataframe\">\n",
       "  <thead>\n",
       "    <tr style=\"text-align: right;\">\n",
       "      <th></th>\n",
       "      <th>weight</th>\n",
       "    </tr>\n",
       "  </thead>\n",
       "  <tbody>\n",
       "    <tr>\n",
       "      <th>memory_internal</th>\n",
       "      <td>0.338662</td>\n",
       "    </tr>\n",
       "    <tr>\n",
       "      <th>main_camera_single</th>\n",
       "      <td>0.120622</td>\n",
       "    </tr>\n",
       "    <tr>\n",
       "      <th>RAM</th>\n",
       "      <td>0.067212</td>\n",
       "    </tr>\n",
       "    <tr>\n",
       "      <th>Micro_sim</th>\n",
       "      <td>0.066416</td>\n",
       "    </tr>\n",
       "    <tr>\n",
       "      <th>iOS_os</th>\n",
       "      <td>0.061803</td>\n",
       "    </tr>\n",
       "    <tr>\n",
       "      <th>Nano_sim</th>\n",
       "      <td>0.049021</td>\n",
       "    </tr>\n",
       "    <tr>\n",
       "      <th>display_size</th>\n",
       "      <td>0.046885</td>\n",
       "    </tr>\n",
       "    <tr>\n",
       "      <th>battery</th>\n",
       "      <td>0.042784</td>\n",
       "    </tr>\n",
       "    <tr>\n",
       "      <th>Mini_sim</th>\n",
       "      <td>0.035510</td>\n",
       "    </tr>\n",
       "    <tr>\n",
       "      <th>BlackBerry_os</th>\n",
       "      <td>0.030608</td>\n",
       "    </tr>\n",
       "    <tr>\n",
       "      <th>battery_stand-by</th>\n",
       "      <td>0.030503</td>\n",
       "    </tr>\n",
       "    <tr>\n",
       "      <th>body_weight</th>\n",
       "      <td>0.029870</td>\n",
       "    </tr>\n",
       "    <tr>\n",
       "      <th>Other_os</th>\n",
       "      <td>0.025677</td>\n",
       "    </tr>\n",
       "    <tr>\n",
       "      <th>Microsoft_os</th>\n",
       "      <td>0.022403</td>\n",
       "    </tr>\n",
       "    <tr>\n",
       "      <th>Android_os</th>\n",
       "      <td>0.021801</td>\n",
       "    </tr>\n",
       "    <tr>\n",
       "      <th>Android-based_os</th>\n",
       "      <td>0.010223</td>\n",
       "    </tr>\n",
       "    <tr>\n",
       "      <th>Symbian_os</th>\n",
       "      <td>0.000000</td>\n",
       "    </tr>\n",
       "    <tr>\n",
       "      <th>Linux_os</th>\n",
       "      <td>0.000000</td>\n",
       "    </tr>\n",
       "    <tr>\n",
       "      <th>watchOS_os</th>\n",
       "      <td>0.000000</td>\n",
       "    </tr>\n",
       "    <tr>\n",
       "      <th>Firefox_os</th>\n",
       "      <td>0.000000</td>\n",
       "    </tr>\n",
       "    <tr>\n",
       "      <th>Tizen-based_os</th>\n",
       "      <td>0.000000</td>\n",
       "    </tr>\n",
       "    <tr>\n",
       "      <th>Palm_os</th>\n",
       "      <td>0.000000</td>\n",
       "    </tr>\n",
       "  </tbody>\n",
       "</table>\n",
       "</div>"
      ],
      "text/plain": [
       "                      weight\n",
       "memory_internal     0.338662\n",
       "main_camera_single  0.120622\n",
       "RAM                 0.067212\n",
       "Micro_sim           0.066416\n",
       "iOS_os              0.061803\n",
       "Nano_sim            0.049021\n",
       "display_size        0.046885\n",
       "battery             0.042784\n",
       "Mini_sim            0.035510\n",
       "BlackBerry_os       0.030608\n",
       "battery_stand-by    0.030503\n",
       "body_weight         0.029870\n",
       "Other_os            0.025677\n",
       "Microsoft_os        0.022403\n",
       "Android_os          0.021801\n",
       "Android-based_os    0.010223\n",
       "Symbian_os          0.000000\n",
       "Linux_os            0.000000\n",
       "watchOS_os          0.000000\n",
       "Firefox_os          0.000000\n",
       "Tizen-based_os      0.000000\n",
       "Palm_os             0.000000"
      ]
     },
     "execution_count": 1457,
     "metadata": {},
     "output_type": "execute_result"
    }
   ],
   "source": [
    "ft_weights_xgb_reg = pd.DataFrame(xgb_reg.feature_importances_, columns=['weight'], index=dt_X_train.columns)\n",
    "ft_weights_xgb_reg.sort_values('weight', ascending=False, inplace=True)\n",
    "ft_weights_xgb_reg"
   ]
  },
  {
   "cell_type": "code",
   "execution_count": 1458,
   "metadata": {},
   "outputs": [
    {
     "data": {
      "image/png": "[encoded data removed]",
      "text/plain": [
       "<Figure size 576x720 with 1 Axes>"
      ]
     },
     "metadata": {
      "needs_background": "light"
     },
     "output_type": "display_data"
    }
   ],
   "source": [
    "# Plotting feature importances\n",
    "plt.figure(figsize=(8,10))\n",
    "plt.barh(ft_weights_xgb_reg.index, ft_weights_xgb_reg.weight,  align='center') \n",
    "plt.title(\"Feature importances in the XGBoost model\", fontsize=14)\n",
    "plt.xlabel(\"Feature importance\")\n",
    "plt.margins(y=0.01)\n",
    "plt.gca().invert_yaxis()\n",
    "plt.show()"
   ]
  },
  {
   "cell_type": "markdown",
   "metadata": {},
   "source": [
    "According to XGBoost model the most important features are internal memory and quality of main camera. Other important features include RAM size, opportunity to use micro sim card and iOS os. Some features don't affect price at all (several operating systems like Symbian, Linux, watchOS, Firefox, etc)."
   ]
  },
  {
   "cell_type": "code",
   "execution_count": null,
   "metadata": {},
   "outputs": [],
   "source": []
  }
 ],
 "metadata": {
  "kernelspec": {
   "display_name": "Python 3",
   "language": "python",
   "name": "python3"
  },
  "language_info": {
   "codemirror_mode": {
    "name": "ipython",
    "version": 3
   },
   "file_extension": ".py",
   "mimetype": "text/x-python",
   "name": "python",
   "nbconvert_exporter": "python",
   "pygments_lexer": "ipython3",
   "version": "3.6.9"
  }
 },
 "nbformat": 4,
 "nbformat_minor": 2
}
